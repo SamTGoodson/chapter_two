{
 "cells": [
  {
   "cell_type": "code",
   "execution_count": 1,
   "metadata": {},
   "outputs": [],
   "source": [
    "import pandas as pd\n",
    "\n",
    "import numpy as np\n",
    "import matplotlib.pyplot as plt\n",
    "\n",
    "from sklearn.preprocessing import StandardScaler\n",
    "from sklearn.cluster import KMeans\n",
    "\n",
    "from fuzzywuzzy import process"
   ]
  },
  {
   "cell_type": "code",
   "execution_count": 5,
   "metadata": {},
   "outputs": [],
   "source": [
    "#Elecion data\n",
    "candidate_demo_df = pd.read_csv('../../cc_election_cleaning/electoral_clustering_with_pca.csv')\n",
    "all_candidate_demo_df = pd.read_csv('../../cc_election_cleaning/all_candidate_electoral_clusters.csv')\n",
    "weighted_demographics = pd.read_csv('../../cc_election_cleaning/weighted_demographics_clusters.csv')\n",
    "#Finance data\n",
    "winning_finance_cluster = pd.read_csv('../../council_campaign_finance/data/winning_members_clusters.csv')\n",
    "all_finance_cluster = pd.read_csv('../../council_campaign_finance/data/all_members_clusters.csv')\n",
    "#Sponsorship data\n",
    "sponsorship_df = pd.read_csv('../../cc_legislation/data/cosponsorship_matrix_clusters.csv')"
   ]
  },
  {
   "cell_type": "code",
   "execution_count": null,
   "metadata": {},
   "outputs": [],
   "source": [
    "# clusters and meta cluster from voting and sponsorship\n",
    "meta_clusters = pd.read_csv('../../cc_legislation/data/meta_clusters.csv')"
   ]
  }
 ],
 "metadata": {
  "kernelspec": {
   "display_name": "Python 3",
   "language": "python",
   "name": "python3"
  },
  "language_info": {
   "codemirror_mode": {
    "name": "ipython",
    "version": 3
   },
   "file_extension": ".py",
   "mimetype": "text/x-python",
   "name": "python",
   "nbconvert_exporter": "python",
   "pygments_lexer": "ipython3",
   "version": "3.11.4"
  }
 },
 "nbformat": 4,
 "nbformat_minor": 2
}
