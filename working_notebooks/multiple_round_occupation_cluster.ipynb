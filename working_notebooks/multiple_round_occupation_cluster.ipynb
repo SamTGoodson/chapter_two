{
 "cells": [
  {
   "cell_type": "code",
   "execution_count": 1,
   "metadata": {},
   "outputs": [],
   "source": [
    "import pandas as pd\n",
    "import geopandas as gpd\n",
    "import numpy as np\n",
    "import matplotlib.pyplot as plt"
   ]
  },
  {
   "cell_type": "code",
   "execution_count": 32,
   "metadata": {},
   "outputs": [],
   "source": [
    "from sklearn.cluster import KMeans\n",
    "from sklearn.preprocessing import StandardScaler"
   ]
  },
  {
   "cell_type": "code",
   "execution_count": 86,
   "metadata": {},
   "outputs": [],
   "source": [
    "import statsmodels.api as sm\n",
    "from statsmodels.formula.api import ols"
   ]
  },
  {
   "cell_type": "code",
   "execution_count": 2,
   "metadata": {},
   "outputs": [],
   "source": [
    "demo_cluster = pd.read_csv('../data/occupation_demo_clusters_on_ed.csv')"
   ]
  },
  {
   "cell_type": "code",
   "execution_count": 13,
   "metadata": {},
   "outputs": [],
   "source": [
    "d39 = pd.read_csv('../../cc_election_cleaning/all_rounds_results/district_39.csv')\n",
    "d39_ag = pd.read_csv('../../cc_election_cleaning/all_rounds_results/district_39_one_two_ag.csv')"
   ]
  },
  {
   "cell_type": "code",
   "execution_count": 27,
   "metadata": {},
   "outputs": [],
   "source": [
    "ed_level = pd.read_csv('../../cc_election_cleaning/occupation_demo_data_feb21.csv')"
   ]
  },
  {
   "cell_type": "code",
   "execution_count": 123,
   "metadata": {},
   "outputs": [],
   "source": [
    "ed_shapefile = '../data/nyed_21a/nyed.shp'\n",
    "ed_gdf = gpd.read_file(ed_shapefile)"
   ]
  },
  {
   "cell_type": "code",
   "execution_count": 28,
   "metadata": {},
   "outputs": [
    {
     "data": {
      "text/html": [
       "<div>\n",
       "<style scoped>\n",
       "    .dataframe tbody tr th:only-of-type {\n",
       "        vertical-align: middle;\n",
       "    }\n",
       "\n",
       "    .dataframe tbody tr th {\n",
       "        vertical-align: top;\n",
       "    }\n",
       "\n",
       "    .dataframe thead th {\n",
       "        text-align: right;\n",
       "    }\n",
       "</style>\n",
       "<table border=\"1\" class=\"dataframe\">\n",
       "  <thead>\n",
       "    <tr style=\"text-align: right;\">\n",
       "      <th></th>\n",
       "      <th>ElectDist</th>\n",
       "      <th>Shape_Leng</th>\n",
       "      <th>Shape_Area</th>\n",
       "      <th>geometry</th>\n",
       "      <th>mhhi21</th>\n",
       "      <th>Agriculture, Forestry, Fishing and Hunting</th>\n",
       "      <th>Mining, Quarrying, and Oil and Gas Extraction</th>\n",
       "      <th>Utilities</th>\n",
       "      <th>Construction</th>\n",
       "      <th>Manufacturing</th>\n",
       "      <th>...</th>\n",
       "      <th>Health Care and Social Assistance</th>\n",
       "      <th>Arts, Entertainment, and Recreation</th>\n",
       "      <th>Accommodation and Food Services</th>\n",
       "      <th>Other Services [except Public Administration]</th>\n",
       "      <th>Public Administration</th>\n",
       "      <th>nha21p</th>\n",
       "      <th>nhb21p</th>\n",
       "      <th>nhw21p</th>\n",
       "      <th>h21p</th>\n",
       "      <th>cvap21bapp</th>\n",
       "    </tr>\n",
       "  </thead>\n",
       "  <tbody>\n",
       "    <tr>\n",
       "      <th>0</th>\n",
       "      <td>23001</td>\n",
       "      <td>25826.498431</td>\n",
       "      <td>2.613472e+07</td>\n",
       "      <td>POLYGON ((1007309.8452148438 141975.6732177734...</td>\n",
       "      <td>62844.563214</td>\n",
       "      <td>0.068014</td>\n",
       "      <td>0.015505</td>\n",
       "      <td>0.920318</td>\n",
       "      <td>7.308238</td>\n",
       "      <td>3.036177</td>\n",
       "      <td>...</td>\n",
       "      <td>16.991394</td>\n",
       "      <td>2.939830</td>\n",
       "      <td>6.802960</td>\n",
       "      <td>4.764781</td>\n",
       "      <td>0.0</td>\n",
       "      <td>0.528821</td>\n",
       "      <td>0.237969</td>\n",
       "      <td>92.675833</td>\n",
       "      <td>5.499736</td>\n",
       "      <td>49.124546</td>\n",
       "    </tr>\n",
       "    <tr>\n",
       "      <th>1</th>\n",
       "      <td>23002</td>\n",
       "      <td>13932.130458</td>\n",
       "      <td>5.637463e+06</td>\n",
       "      <td>MULTIPOLYGON (((1006386.2789916992 144120.6552...</td>\n",
       "      <td>13556.267805</td>\n",
       "      <td>0.068014</td>\n",
       "      <td>0.015505</td>\n",
       "      <td>0.920318</td>\n",
       "      <td>7.308238</td>\n",
       "      <td>3.036177</td>\n",
       "      <td>...</td>\n",
       "      <td>16.991394</td>\n",
       "      <td>2.939830</td>\n",
       "      <td>6.802960</td>\n",
       "      <td>4.764781</td>\n",
       "      <td>0.0</td>\n",
       "      <td>0.528821</td>\n",
       "      <td>0.237969</td>\n",
       "      <td>92.675833</td>\n",
       "      <td>5.499736</td>\n",
       "      <td>49.124546</td>\n",
       "    </tr>\n",
       "    <tr>\n",
       "      <th>2</th>\n",
       "      <td>23006</td>\n",
       "      <td>8261.763819</td>\n",
       "      <td>3.188046e+06</td>\n",
       "      <td>POLYGON ((1025021.7086181641 147481.0651855468...</td>\n",
       "      <td>84445.233088</td>\n",
       "      <td>0.044635</td>\n",
       "      <td>0.015141</td>\n",
       "      <td>0.756079</td>\n",
       "      <td>5.464300</td>\n",
       "      <td>2.575456</td>\n",
       "      <td>...</td>\n",
       "      <td>27.309936</td>\n",
       "      <td>1.880209</td>\n",
       "      <td>7.300299</td>\n",
       "      <td>4.623432</td>\n",
       "      <td>0.0</td>\n",
       "      <td>1.037038</td>\n",
       "      <td>41.292122</td>\n",
       "      <td>48.437030</td>\n",
       "      <td>6.092313</td>\n",
       "      <td>42.876355</td>\n",
       "    </tr>\n",
       "    <tr>\n",
       "      <th>3</th>\n",
       "      <td>23008</td>\n",
       "      <td>9028.976073</td>\n",
       "      <td>2.914810e+06</td>\n",
       "      <td>POLYGON ((1026756.3640136719 147970.5953979492...</td>\n",
       "      <td>73710.182538</td>\n",
       "      <td>0.032087</td>\n",
       "      <td>0.017081</td>\n",
       "      <td>0.823579</td>\n",
       "      <td>5.659562</td>\n",
       "      <td>2.473481</td>\n",
       "      <td>...</td>\n",
       "      <td>28.100670</td>\n",
       "      <td>1.853644</td>\n",
       "      <td>7.139155</td>\n",
       "      <td>4.663934</td>\n",
       "      <td>0.0</td>\n",
       "      <td>1.490446</td>\n",
       "      <td>43.861566</td>\n",
       "      <td>47.499612</td>\n",
       "      <td>4.270416</td>\n",
       "      <td>45.508887</td>\n",
       "    </tr>\n",
       "    <tr>\n",
       "      <th>4</th>\n",
       "      <td>23009</td>\n",
       "      <td>8989.997452</td>\n",
       "      <td>2.779038e+06</td>\n",
       "      <td>POLYGON ((1027647.7304077148 148397.8187866211...</td>\n",
       "      <td>44232.335616</td>\n",
       "      <td>0.075256</td>\n",
       "      <td>0.017490</td>\n",
       "      <td>1.325195</td>\n",
       "      <td>6.315336</td>\n",
       "      <td>2.857157</td>\n",
       "      <td>...</td>\n",
       "      <td>19.497952</td>\n",
       "      <td>2.511162</td>\n",
       "      <td>8.900108</td>\n",
       "      <td>5.397475</td>\n",
       "      <td>0.0</td>\n",
       "      <td>2.076209</td>\n",
       "      <td>0.952618</td>\n",
       "      <td>77.088413</td>\n",
       "      <td>19.247677</td>\n",
       "      <td>46.041052</td>\n",
       "    </tr>\n",
       "  </tbody>\n",
       "</table>\n",
       "<p>5 rows × 30 columns</p>\n",
       "</div>"
      ],
      "text/plain": [
       "   ElectDist    Shape_Leng    Shape_Area  \\\n",
       "0      23001  25826.498431  2.613472e+07   \n",
       "1      23002  13932.130458  5.637463e+06   \n",
       "2      23006   8261.763819  3.188046e+06   \n",
       "3      23008   9028.976073  2.914810e+06   \n",
       "4      23009   8989.997452  2.779038e+06   \n",
       "\n",
       "                                            geometry        mhhi21  \\\n",
       "0  POLYGON ((1007309.8452148438 141975.6732177734...  62844.563214   \n",
       "1  MULTIPOLYGON (((1006386.2789916992 144120.6552...  13556.267805   \n",
       "2  POLYGON ((1025021.7086181641 147481.0651855468...  84445.233088   \n",
       "3  POLYGON ((1026756.3640136719 147970.5953979492...  73710.182538   \n",
       "4  POLYGON ((1027647.7304077148 148397.8187866211...  44232.335616   \n",
       "\n",
       "   Agriculture, Forestry, Fishing and Hunting  \\\n",
       "0                                    0.068014   \n",
       "1                                    0.068014   \n",
       "2                                    0.044635   \n",
       "3                                    0.032087   \n",
       "4                                    0.075256   \n",
       "\n",
       "   Mining, Quarrying, and Oil and Gas Extraction  Utilities  Construction  \\\n",
       "0                                       0.015505   0.920318      7.308238   \n",
       "1                                       0.015505   0.920318      7.308238   \n",
       "2                                       0.015141   0.756079      5.464300   \n",
       "3                                       0.017081   0.823579      5.659562   \n",
       "4                                       0.017490   1.325195      6.315336   \n",
       "\n",
       "   Manufacturing  ...  Health Care and Social Assistance  \\\n",
       "0       3.036177  ...                          16.991394   \n",
       "1       3.036177  ...                          16.991394   \n",
       "2       2.575456  ...                          27.309936   \n",
       "3       2.473481  ...                          28.100670   \n",
       "4       2.857157  ...                          19.497952   \n",
       "\n",
       "   Arts, Entertainment, and Recreation  Accommodation and Food Services  \\\n",
       "0                             2.939830                         6.802960   \n",
       "1                             2.939830                         6.802960   \n",
       "2                             1.880209                         7.300299   \n",
       "3                             1.853644                         7.139155   \n",
       "4                             2.511162                         8.900108   \n",
       "\n",
       "   Other Services [except Public Administration]  Public Administration  \\\n",
       "0                                       4.764781                    0.0   \n",
       "1                                       4.764781                    0.0   \n",
       "2                                       4.623432                    0.0   \n",
       "3                                       4.663934                    0.0   \n",
       "4                                       5.397475                    0.0   \n",
       "\n",
       "     nha21p     nhb21p     nhw21p       h21p  cvap21bapp  \n",
       "0  0.528821   0.237969  92.675833   5.499736   49.124546  \n",
       "1  0.528821   0.237969  92.675833   5.499736   49.124546  \n",
       "2  1.037038  41.292122  48.437030   6.092313   42.876355  \n",
       "3  1.490446  43.861566  47.499612   4.270416   45.508887  \n",
       "4  2.076209   0.952618  77.088413  19.247677   46.041052  \n",
       "\n",
       "[5 rows x 30 columns]"
      ]
     },
     "execution_count": 28,
     "metadata": {},
     "output_type": "execute_result"
    }
   ],
   "source": [
    "ed_level.head()"
   ]
  },
  {
   "cell_type": "code",
   "execution_count": 14,
   "metadata": {},
   "outputs": [],
   "source": [
    "# split Precinct into AD and ED columns\n",
    "d39_ag['AD'] = d39_ag['Precinct'].str.split(' ').str[1]\n",
    "d39_ag['ED'] = d39_ag['Precinct'].str.split(' ').str[3]"
   ]
  },
  {
   "cell_type": "code",
   "execution_count": 16,
   "metadata": {},
   "outputs": [],
   "source": [
    "d39_ag['ed_name'] = d39_ag['AD'].astype(str) + d39_ag['ED'].astype(str).str.zfill(3)"
   ]
  },
  {
   "cell_type": "code",
   "execution_count": 19,
   "metadata": {},
   "outputs": [],
   "source": [
    "d39_ag['ed_name'] = d39_ag['ed_name'].astype('Int64')"
   ]
  },
  {
   "cell_type": "code",
   "execution_count": 30,
   "metadata": {},
   "outputs": [],
   "source": [
    "d39['AD'] = d39['Precinct'].str.split(' ').str[1]\n",
    "d39['ED'] = d39['Precinct'].str.split(' ').str[3]\n",
    "\n",
    "d39['ed_name'] = d39['AD'].astype(str) + d39_ag['ED'].astype(str).str.zfill(3)\n",
    "\n",
    "d39['ed_name'] = d39['ed_name'].astype('Int64')"
   ]
  },
  {
   "cell_type": "code",
   "execution_count": 35,
   "metadata": {},
   "outputs": [],
   "source": [
    "d39_demo = d39_ag.merge(ed_level, left_on='ed_name', right_on ='ElectDist',how='left')"
   ]
  },
  {
   "cell_type": "code",
   "execution_count": 100,
   "metadata": {},
   "outputs": [
    {
     "data": {
      "text/plain": [
       "Index(['Precinct', 'SKH_BW', 'SKH_notBW', 'BW_SKH', 'BW_notSKH', 'neither',\n",
       "       'biggest', 'AD', 'ED', 'ed_name', 'ElectDist', 'Shape_Leng',\n",
       "       'Shape_Area', 'geometry', 'mhhi21',\n",
       "       'Agriculture, Forestry, Fishing and Hunting',\n",
       "       'Mining, Quarrying, and Oil and Gas Extraction', 'Utilities',\n",
       "       'Construction', 'Manufacturing', 'Wholesale Trade', 'Retail Trade',\n",
       "       'Transportation and Warehousing', 'Information',\n",
       "       'Finance and Insurance', 'Real Estate and Rental and Leasing',\n",
       "       'Professional, Scientific, and Technical Services',\n",
       "       'Management of Companies and Enterprises',\n",
       "       'Administrative and Support and Waste Management and Remediation Services',\n",
       "       'Educational Services', 'Health Care and Social Assistance',\n",
       "       'Arts, Entertainment, and Recreation',\n",
       "       'Accommodation and Food Services',\n",
       "       'Other Services [except Public Administration]',\n",
       "       'Public Administration', 'nha21p', 'nhb21p', 'nhw21p', 'h21p',\n",
       "       'cvap21bapp', 'cluster'],\n",
       "      dtype='object')"
      ]
     },
     "execution_count": 100,
     "metadata": {},
     "output_type": "execute_result"
    }
   ],
   "source": [
    "d39_demo.columns"
   ]
  },
  {
   "cell_type": "code",
   "execution_count": null,
   "metadata": {},
   "outputs": [],
   "source": [
    "cols_to_keep = ['ElectDist','mhhi21','Construction', 'Manufacturing', 'Wholesale Trade', 'Retail Trade',\n",
    "       'Transportation and Warehousing', 'Information',\n",
    "       'Finance and Insurance', 'Real Estate and Rental and Leasing',\n",
    "       'Professional, Scientific, and Technical Services',\n",
    "       'Management of Companies and Enterprises',\n",
    "       'Administrative and Support and Waste Management and Remediation Services',\n",
    "       'Educational Services', 'Health Care and Social Assistance',\n",
    "       'Arts, Entertainment, and Recreation',\n",
    "       'Accommodation and Food Services',\n",
    "       'Other Services [except Public Administration]',\n",
    "       'Public Administration', 'h21p','nha21p', 'nhb21p', 'nhw21p', 'cvap21bapp']\n",
    "df = d39_demo[cols_to_keep]\n",
    "df = df.dropna()\n",
    "features = df.drop(columns=['ElectDist'])"
   ]
  },
  {
   "cell_type": "code",
   "execution_count": 39,
   "metadata": {},
   "outputs": [],
   "source": [
    "scaler = StandardScaler()\n",
    "scaled_features = scaler.fit_transform(features)"
   ]
  },
  {
   "cell_type": "code",
   "execution_count": 40,
   "metadata": {},
   "outputs": [
    {
     "name": "stderr",
     "output_type": "stream",
     "text": [
      "c:\\Users\\samtg\\AppData\\Local\\Programs\\Python\\Python311\\Lib\\site-packages\\sklearn\\cluster\\_kmeans.py:1412: FutureWarning: The default value of `n_init` will change from 10 to 'auto' in 1.4. Set the value of `n_init` explicitly to suppress the warning\n",
      "  super()._check_params_vs_input(X, default_n_init=10)\n",
      "c:\\Users\\samtg\\AppData\\Local\\Programs\\Python\\Python311\\Lib\\site-packages\\sklearn\\cluster\\_kmeans.py:1412: FutureWarning: The default value of `n_init` will change from 10 to 'auto' in 1.4. Set the value of `n_init` explicitly to suppress the warning\n",
      "  super()._check_params_vs_input(X, default_n_init=10)\n",
      "c:\\Users\\samtg\\AppData\\Local\\Programs\\Python\\Python311\\Lib\\site-packages\\sklearn\\cluster\\_kmeans.py:1412: FutureWarning: The default value of `n_init` will change from 10 to 'auto' in 1.4. Set the value of `n_init` explicitly to suppress the warning\n",
      "  super()._check_params_vs_input(X, default_n_init=10)\n",
      "c:\\Users\\samtg\\AppData\\Local\\Programs\\Python\\Python311\\Lib\\site-packages\\sklearn\\cluster\\_kmeans.py:1412: FutureWarning: The default value of `n_init` will change from 10 to 'auto' in 1.4. Set the value of `n_init` explicitly to suppress the warning\n",
      "  super()._check_params_vs_input(X, default_n_init=10)\n",
      "c:\\Users\\samtg\\AppData\\Local\\Programs\\Python\\Python311\\Lib\\site-packages\\sklearn\\cluster\\_kmeans.py:1412: FutureWarning: The default value of `n_init` will change from 10 to 'auto' in 1.4. Set the value of `n_init` explicitly to suppress the warning\n",
      "  super()._check_params_vs_input(X, default_n_init=10)\n",
      "c:\\Users\\samtg\\AppData\\Local\\Programs\\Python\\Python311\\Lib\\site-packages\\sklearn\\cluster\\_kmeans.py:1412: FutureWarning: The default value of `n_init` will change from 10 to 'auto' in 1.4. Set the value of `n_init` explicitly to suppress the warning\n",
      "  super()._check_params_vs_input(X, default_n_init=10)\n",
      "c:\\Users\\samtg\\AppData\\Local\\Programs\\Python\\Python311\\Lib\\site-packages\\sklearn\\cluster\\_kmeans.py:1412: FutureWarning: The default value of `n_init` will change from 10 to 'auto' in 1.4. Set the value of `n_init` explicitly to suppress the warning\n",
      "  super()._check_params_vs_input(X, default_n_init=10)\n",
      "c:\\Users\\samtg\\AppData\\Local\\Programs\\Python\\Python311\\Lib\\site-packages\\sklearn\\cluster\\_kmeans.py:1412: FutureWarning: The default value of `n_init` will change from 10 to 'auto' in 1.4. Set the value of `n_init` explicitly to suppress the warning\n",
      "  super()._check_params_vs_input(X, default_n_init=10)\n",
      "c:\\Users\\samtg\\AppData\\Local\\Programs\\Python\\Python311\\Lib\\site-packages\\sklearn\\cluster\\_kmeans.py:1412: FutureWarning: The default value of `n_init` will change from 10 to 'auto' in 1.4. Set the value of `n_init` explicitly to suppress the warning\n",
      "  super()._check_params_vs_input(X, default_n_init=10)\n",
      "c:\\Users\\samtg\\AppData\\Local\\Programs\\Python\\Python311\\Lib\\site-packages\\sklearn\\cluster\\_kmeans.py:1412: FutureWarning: The default value of `n_init` will change from 10 to 'auto' in 1.4. Set the value of `n_init` explicitly to suppress the warning\n",
      "  super()._check_params_vs_input(X, default_n_init=10)\n"
     ]
    }
   ],
   "source": [
    "inertia = []\n",
    "for i in range(1, 11):\n",
    "    kmeans = KMeans(n_clusters=i, random_state=0)\n",
    "    kmeans.fit(scaled_features)\n",
    "    inertia.append(kmeans.inertia_)"
   ]
  },
  {
   "cell_type": "code",
   "execution_count": 41,
   "metadata": {},
   "outputs": [
    {
     "data": {
      "text/plain": [
       "Text(0.5, 0, 'Number of clusters')"
      ]
     },
     "execution_count": 41,
     "metadata": {},
     "output_type": "execute_result"
    },
    {
     "data": {
      "image/png": "[encoded data removed]",
      "text/plain": [
       "<Figure size 640x480 with 1 Axes>"
      ]
     },
     "metadata": {},
     "output_type": "display_data"
    }
   ],
   "source": [
    "plt.plot(range(1, 11), inertia)\n",
    "plt.title('Elbow Method')\n",
    "plt.xlabel('Number of clusters')"
   ]
  },
  {
   "cell_type": "code",
   "execution_count": 59,
   "metadata": {},
   "outputs": [
    {
     "name": "stderr",
     "output_type": "stream",
     "text": [
      "c:\\Users\\samtg\\AppData\\Local\\Programs\\Python\\Python311\\Lib\\site-packages\\sklearn\\cluster\\_kmeans.py:1412: FutureWarning: The default value of `n_init` will change from 10 to 'auto' in 1.4. Set the value of `n_init` explicitly to suppress the warning\n",
      "  super()._check_params_vs_input(X, default_n_init=10)\n"
     ]
    }
   ],
   "source": [
    "kmeans = KMeans(n_clusters=6, random_state=0)\n",
    "kmeans.fit(scaled_features)\n",
    "d39_demo['cluster'] = kmeans.labels_"
   ]
  },
  {
   "cell_type": "code",
   "execution_count": 43,
   "metadata": {},
   "outputs": [],
   "source": [
    "averages = df.groupby('cluster').mean().reset_index()"
   ]
  },
  {
   "cell_type": "code",
   "execution_count": 44,
   "metadata": {},
   "outputs": [],
   "source": [
    "job_cols = ['Construction', 'Manufacturing', 'Wholesale Trade',\n",
    "       'Retail Trade', 'Transportation and Warehousing', 'Information',\n",
    "       'Finance and Insurance',\n",
    "       'Professional, Scientific, and Technical Services',\n",
    "       'Management of Companies and Enterprises', 'Educational Services',\n",
    "       'Health Care and Social Assistance',\n",
    "       'Arts, Entertainment, and Recreation',\n",
    "       'Accommodation and Food Services']\n",
    "race_cols = ['h21p', 'nha21p', 'nhb21p', 'nhw21p']"
   ]
  },
  {
   "cell_type": "code",
   "execution_count": null,
   "metadata": {},
   "outputs": [],
   "source": [
    "averages = df.groupby('cluster').mean().reset_index()\n",
    "averages['top_three'] = averages[job_cols].apply(lambda row: row.nlargest(3).index.tolist(), axis=1)\n",
    "averages['max_race_col'] = averages[race_cols].idxmax(axis=1)"
   ]
  },
  {
   "cell_type": "code",
   "execution_count": 89,
   "metadata": {},
   "outputs": [
    {
     "data": {
      "text/plain": [
       "Index(['cluster', 'ElectDist', 'mhhi21', 'Construction', 'Manufacturing',\n",
       "       'Wholesale Trade', 'Retail Trade', 'Transportation and Warehousing',\n",
       "       'Information', 'Finance and Insurance',\n",
       "       'Real Estate and Rental and Leasing',\n",
       "       'Professional, Scientific, and Technical Services',\n",
       "       'Management of Companies and Enterprises',\n",
       "       'Administrative and Support and Waste Management and Remediation Services',\n",
       "       'Educational Services', 'Health Care and Social Assistance',\n",
       "       'Arts, Entertainment, and Recreation',\n",
       "       'Accommodation and Food Services',\n",
       "       'Other Services [except Public Administration]',\n",
       "       'Public Administration', 'h21p', 'nha21p', 'nhb21p', 'nhw21p',\n",
       "       'cvap21bapp', 'top_three', 'max_race_col'],\n",
       "      dtype='object')"
      ]
     },
     "execution_count": 89,
     "metadata": {},
     "output_type": "execute_result"
    }
   ],
   "source": [
    "averages.columns"
   ]
  },
  {
   "cell_type": "code",
   "execution_count": 90,
   "metadata": {},
   "outputs": [],
   "source": [
    "# change pd settings to display all of the text in a cell\n",
    "pd.set_option('display.max_colwidth', None)\n"
   ]
  },
  {
   "cell_type": "code",
   "execution_count": 92,
   "metadata": {},
   "outputs": [
    {
     "data": {
      "text/html": [
       "<div>\n",
       "<style scoped>\n",
       "    .dataframe tbody tr th:only-of-type {\n",
       "        vertical-align: middle;\n",
       "    }\n",
       "\n",
       "    .dataframe tbody tr th {\n",
       "        vertical-align: top;\n",
       "    }\n",
       "\n",
       "    .dataframe thead th {\n",
       "        text-align: right;\n",
       "    }\n",
       "</style>\n",
       "<table border=\"1\" class=\"dataframe\">\n",
       "  <thead>\n",
       "    <tr style=\"text-align: right;\">\n",
       "      <th></th>\n",
       "      <th>cluster</th>\n",
       "      <th>h21p</th>\n",
       "      <th>nha21p</th>\n",
       "      <th>nhb21p</th>\n",
       "      <th>nhw21p</th>\n",
       "      <th>cvap21bapp</th>\n",
       "      <th>mhhi21</th>\n",
       "      <th>Retail Trade</th>\n",
       "      <th>Professional, Scientific, and Technical Services</th>\n",
       "      <th>Accommodation and Food Services</th>\n",
       "    </tr>\n",
       "  </thead>\n",
       "  <tbody>\n",
       "    <tr>\n",
       "      <th>0</th>\n",
       "      <td>0</td>\n",
       "      <td>21.885675</td>\n",
       "      <td>8.810630</td>\n",
       "      <td>9.385590</td>\n",
       "      <td>55.838791</td>\n",
       "      <td>62.818195</td>\n",
       "      <td>126562.932716</td>\n",
       "      <td>8.130081</td>\n",
       "      <td>13.143638</td>\n",
       "      <td>9.261034</td>\n",
       "    </tr>\n",
       "    <tr>\n",
       "      <th>1</th>\n",
       "      <td>1</td>\n",
       "      <td>22.681543</td>\n",
       "      <td>13.263648</td>\n",
       "      <td>23.937006</td>\n",
       "      <td>36.124975</td>\n",
       "      <td>30.578342</td>\n",
       "      <td>90173.480149</td>\n",
       "      <td>12.419709</td>\n",
       "      <td>6.692935</td>\n",
       "      <td>9.246053</td>\n",
       "    </tr>\n",
       "    <tr>\n",
       "      <th>2</th>\n",
       "      <td>2</td>\n",
       "      <td>41.852288</td>\n",
       "      <td>17.693615</td>\n",
       "      <td>8.070016</td>\n",
       "      <td>24.347287</td>\n",
       "      <td>33.721714</td>\n",
       "      <td>106125.909448</td>\n",
       "      <td>16.981900</td>\n",
       "      <td>8.183496</td>\n",
       "      <td>7.787149</td>\n",
       "    </tr>\n",
       "    <tr>\n",
       "      <th>3</th>\n",
       "      <td>3</td>\n",
       "      <td>12.247146</td>\n",
       "      <td>15.500726</td>\n",
       "      <td>17.081073</td>\n",
       "      <td>48.518506</td>\n",
       "      <td>50.654109</td>\n",
       "      <td>88424.569641</td>\n",
       "      <td>9.443829</td>\n",
       "      <td>10.173266</td>\n",
       "      <td>9.404639</td>\n",
       "    </tr>\n",
       "    <tr>\n",
       "      <th>4</th>\n",
       "      <td>4</td>\n",
       "      <td>24.292856</td>\n",
       "      <td>30.412426</td>\n",
       "      <td>10.213353</td>\n",
       "      <td>30.041065</td>\n",
       "      <td>37.880201</td>\n",
       "      <td>33809.688417</td>\n",
       "      <td>12.159311</td>\n",
       "      <td>8.013746</td>\n",
       "      <td>10.378072</td>\n",
       "    </tr>\n",
       "    <tr>\n",
       "      <th>5</th>\n",
       "      <td>5</td>\n",
       "      <td>31.259850</td>\n",
       "      <td>9.302283</td>\n",
       "      <td>12.790650</td>\n",
       "      <td>42.337309</td>\n",
       "      <td>51.663651</td>\n",
       "      <td>131907.786015</td>\n",
       "      <td>9.334663</td>\n",
       "      <td>11.843516</td>\n",
       "      <td>9.897896</td>\n",
       "    </tr>\n",
       "  </tbody>\n",
       "</table>\n",
       "</div>"
      ],
      "text/plain": [
       "   cluster       h21p     nha21p     nhb21p     nhw21p  cvap21bapp  \\\n",
       "0        0  21.885675   8.810630   9.385590  55.838791   62.818195   \n",
       "1        1  22.681543  13.263648  23.937006  36.124975   30.578342   \n",
       "2        2  41.852288  17.693615   8.070016  24.347287   33.721714   \n",
       "3        3  12.247146  15.500726  17.081073  48.518506   50.654109   \n",
       "4        4  24.292856  30.412426  10.213353  30.041065   37.880201   \n",
       "5        5  31.259850   9.302283  12.790650  42.337309   51.663651   \n",
       "\n",
       "          mhhi21  Retail Trade  \\\n",
       "0  126562.932716      8.130081   \n",
       "1   90173.480149     12.419709   \n",
       "2  106125.909448     16.981900   \n",
       "3   88424.569641      9.443829   \n",
       "4   33809.688417     12.159311   \n",
       "5  131907.786015      9.334663   \n",
       "\n",
       "   Professional, Scientific, and Technical Services  \\\n",
       "0                                         13.143638   \n",
       "1                                          6.692935   \n",
       "2                                          8.183496   \n",
       "3                                         10.173266   \n",
       "4                                          8.013746   \n",
       "5                                         11.843516   \n",
       "\n",
       "   Accommodation and Food Services  \n",
       "0                         9.261034  \n",
       "1                         9.246053  \n",
       "2                         7.787149  \n",
       "3                         9.404639  \n",
       "4                        10.378072  \n",
       "5                         9.897896  "
      ]
     },
     "execution_count": 92,
     "metadata": {},
     "output_type": "execute_result"
    }
   ],
   "source": [
    "averages[['cluster', 'h21p', 'nha21p', 'nhb21p', 'nhw21p','cvap21bapp','mhhi21','Retail Trade','Professional, Scientific, and Technical Services',\n",
    "          'Accommodation and Food Services',]]"
   ]
  },
  {
   "cell_type": "code",
   "execution_count": 54,
   "metadata": {},
   "outputs": [],
   "source": [
    "df_gdf = df.merge(ed_gdf, on='ElectDist', how='left')\n",
    "df_gdf = gpd.GeoDataFrame(df_gdf)"
   ]
  },
  {
   "cell_type": "code",
   "execution_count": 56,
   "metadata": {},
   "outputs": [],
   "source": [
    "df_gdf['cluster'] = df_gdf['cluster'].astype('category')"
   ]
  },
  {
   "cell_type": "code",
   "execution_count": 57,
   "metadata": {},
   "outputs": [
    {
     "data": {
      "image/png": "[encoded data removed]",
      "text/plain": [
       "<Figure size 1500x1000 with 1 Axes>"
      ]
     },
     "metadata": {},
     "output_type": "display_data"
    }
   ],
   "source": [
    "df_gdf.plot(column='cluster', cmap='tab10', legend=True, figsize=(15, 10))\n",
    "plt.title(\"Clustering on Occupation, Income, Education, Race, and Adams '21 Primary\")\n",
    "plt.show()"
   ]
  },
  {
   "cell_type": "code",
   "execution_count": 58,
   "metadata": {},
   "outputs": [
    {
     "data": {
      "text/html": [
       "<div>\n",
       "<style scoped>\n",
       "    .dataframe tbody tr th:only-of-type {\n",
       "        vertical-align: middle;\n",
       "    }\n",
       "\n",
       "    .dataframe tbody tr th {\n",
       "        vertical-align: top;\n",
       "    }\n",
       "\n",
       "    .dataframe thead th {\n",
       "        text-align: right;\n",
       "    }\n",
       "</style>\n",
       "<table border=\"1\" class=\"dataframe\">\n",
       "  <thead>\n",
       "    <tr style=\"text-align: right;\">\n",
       "      <th></th>\n",
       "      <th>ElectDist</th>\n",
       "      <th>mhhi21</th>\n",
       "      <th>Construction</th>\n",
       "      <th>Manufacturing</th>\n",
       "      <th>Wholesale Trade</th>\n",
       "      <th>Retail Trade</th>\n",
       "      <th>Transportation and Warehousing</th>\n",
       "      <th>Information</th>\n",
       "      <th>Finance and Insurance</th>\n",
       "      <th>Real Estate and Rental and Leasing</th>\n",
       "      <th>...</th>\n",
       "      <th>Arts, Entertainment, and Recreation</th>\n",
       "      <th>Accommodation and Food Services</th>\n",
       "      <th>Other Services [except Public Administration]</th>\n",
       "      <th>Public Administration</th>\n",
       "      <th>h21p</th>\n",
       "      <th>nha21p</th>\n",
       "      <th>nhb21p</th>\n",
       "      <th>nhw21p</th>\n",
       "      <th>cvap21bapp</th>\n",
       "      <th>cluster</th>\n",
       "    </tr>\n",
       "  </thead>\n",
       "  <tbody>\n",
       "    <tr>\n",
       "      <th>0</th>\n",
       "      <td>42001</td>\n",
       "      <td>35758.521005</td>\n",
       "      <td>3.198568</td>\n",
       "      <td>2.242134</td>\n",
       "      <td>3.699370</td>\n",
       "      <td>9.343105</td>\n",
       "      <td>3.387870</td>\n",
       "      <td>5.922974</td>\n",
       "      <td>8.180075</td>\n",
       "      <td>3.322286</td>\n",
       "      <td>...</td>\n",
       "      <td>2.450141</td>\n",
       "      <td>9.766843</td>\n",
       "      <td>5.099254</td>\n",
       "      <td>0.000000e+00</td>\n",
       "      <td>8.971209</td>\n",
       "      <td>8.895774</td>\n",
       "      <td>24.830710</td>\n",
       "      <td>50.120287</td>\n",
       "      <td>53.354581</td>\n",
       "      <td>3</td>\n",
       "    </tr>\n",
       "    <tr>\n",
       "      <th>1</th>\n",
       "      <td>44001</td>\n",
       "      <td>36996.369308</td>\n",
       "      <td>3.671266</td>\n",
       "      <td>2.978972</td>\n",
       "      <td>4.758598</td>\n",
       "      <td>12.817742</td>\n",
       "      <td>2.908465</td>\n",
       "      <td>3.532807</td>\n",
       "      <td>4.585076</td>\n",
       "      <td>3.701934</td>\n",
       "      <td>...</td>\n",
       "      <td>1.965596</td>\n",
       "      <td>9.004513</td>\n",
       "      <td>5.114050</td>\n",
       "      <td>0.000000e+00</td>\n",
       "      <td>19.435838</td>\n",
       "      <td>3.128800</td>\n",
       "      <td>29.694956</td>\n",
       "      <td>46.241255</td>\n",
       "      <td>20.621832</td>\n",
       "      <td>1</td>\n",
       "    </tr>\n",
       "    <tr>\n",
       "      <th>2</th>\n",
       "      <td>44002</td>\n",
       "      <td>154397.468455</td>\n",
       "      <td>4.000157</td>\n",
       "      <td>3.276925</td>\n",
       "      <td>4.359860</td>\n",
       "      <td>13.077331</td>\n",
       "      <td>3.378901</td>\n",
       "      <td>3.185042</td>\n",
       "      <td>5.017817</td>\n",
       "      <td>3.327248</td>\n",
       "      <td>...</td>\n",
       "      <td>2.022961</td>\n",
       "      <td>9.759037</td>\n",
       "      <td>5.512677</td>\n",
       "      <td>7.119734e-11</td>\n",
       "      <td>24.977137</td>\n",
       "      <td>16.100034</td>\n",
       "      <td>21.520989</td>\n",
       "      <td>34.571051</td>\n",
       "      <td>30.406690</td>\n",
       "      <td>1</td>\n",
       "    </tr>\n",
       "    <tr>\n",
       "      <th>3</th>\n",
       "      <td>44003</td>\n",
       "      <td>167227.222576</td>\n",
       "      <td>4.018387</td>\n",
       "      <td>3.329660</td>\n",
       "      <td>4.382340</td>\n",
       "      <td>13.085376</td>\n",
       "      <td>3.433024</td>\n",
       "      <td>3.185958</td>\n",
       "      <td>5.035214</td>\n",
       "      <td>3.284435</td>\n",
       "      <td>...</td>\n",
       "      <td>2.008160</td>\n",
       "      <td>9.727116</td>\n",
       "      <td>5.512378</td>\n",
       "      <td>4.639038e-11</td>\n",
       "      <td>23.541154</td>\n",
       "      <td>16.553609</td>\n",
       "      <td>21.715165</td>\n",
       "      <td>35.252250</td>\n",
       "      <td>31.213423</td>\n",
       "      <td>1</td>\n",
       "    </tr>\n",
       "    <tr>\n",
       "      <th>4</th>\n",
       "      <td>44004</td>\n",
       "      <td>71216.995386</td>\n",
       "      <td>3.641243</td>\n",
       "      <td>3.003405</td>\n",
       "      <td>4.707889</td>\n",
       "      <td>12.138547</td>\n",
       "      <td>4.143061</td>\n",
       "      <td>3.078540</td>\n",
       "      <td>5.667247</td>\n",
       "      <td>3.187705</td>\n",
       "      <td>...</td>\n",
       "      <td>1.581179</td>\n",
       "      <td>8.406312</td>\n",
       "      <td>5.539997</td>\n",
       "      <td>0.000000e+00</td>\n",
       "      <td>16.311521</td>\n",
       "      <td>18.633988</td>\n",
       "      <td>22.072902</td>\n",
       "      <td>34.972053</td>\n",
       "      <td>32.791856</td>\n",
       "      <td>1</td>\n",
       "    </tr>\n",
       "  </tbody>\n",
       "</table>\n",
       "<p>5 rows × 25 columns</p>\n",
       "</div>"
      ],
      "text/plain": [
       "   ElectDist         mhhi21  Construction  Manufacturing  Wholesale Trade  \\\n",
       "0      42001   35758.521005      3.198568       2.242134         3.699370   \n",
       "1      44001   36996.369308      3.671266       2.978972         4.758598   \n",
       "2      44002  154397.468455      4.000157       3.276925         4.359860   \n",
       "3      44003  167227.222576      4.018387       3.329660         4.382340   \n",
       "4      44004   71216.995386      3.641243       3.003405         4.707889   \n",
       "\n",
       "   Retail Trade  Transportation and Warehousing  Information  \\\n",
       "0      9.343105                        3.387870     5.922974   \n",
       "1     12.817742                        2.908465     3.532807   \n",
       "2     13.077331                        3.378901     3.185042   \n",
       "3     13.085376                        3.433024     3.185958   \n",
       "4     12.138547                        4.143061     3.078540   \n",
       "\n",
       "   Finance and Insurance  Real Estate and Rental and Leasing  ...  \\\n",
       "0               8.180075                            3.322286  ...   \n",
       "1               4.585076                            3.701934  ...   \n",
       "2               5.017817                            3.327248  ...   \n",
       "3               5.035214                            3.284435  ...   \n",
       "4               5.667247                            3.187705  ...   \n",
       "\n",
       "   Arts, Entertainment, and Recreation  Accommodation and Food Services  \\\n",
       "0                             2.450141                         9.766843   \n",
       "1                             1.965596                         9.004513   \n",
       "2                             2.022961                         9.759037   \n",
       "3                             2.008160                         9.727116   \n",
       "4                             1.581179                         8.406312   \n",
       "\n",
       "   Other Services [except Public Administration]  Public Administration  \\\n",
       "0                                       5.099254           0.000000e+00   \n",
       "1                                       5.114050           0.000000e+00   \n",
       "2                                       5.512677           7.119734e-11   \n",
       "3                                       5.512378           4.639038e-11   \n",
       "4                                       5.539997           0.000000e+00   \n",
       "\n",
       "        h21p     nha21p     nhb21p     nhw21p  cvap21bapp  cluster  \n",
       "0   8.971209   8.895774  24.830710  50.120287   53.354581        3  \n",
       "1  19.435838   3.128800  29.694956  46.241255   20.621832        1  \n",
       "2  24.977137  16.100034  21.520989  34.571051   30.406690        1  \n",
       "3  23.541154  16.553609  21.715165  35.252250   31.213423        1  \n",
       "4  16.311521  18.633988  22.072902  34.972053   32.791856        1  \n",
       "\n",
       "[5 rows x 25 columns]"
      ]
     },
     "execution_count": 58,
     "metadata": {},
     "output_type": "execute_result"
    }
   ],
   "source": [
    "df.head()"
   ]
  },
  {
   "cell_type": "code",
   "execution_count": 60,
   "metadata": {},
   "outputs": [],
   "source": [
    "ag = d39_demo.groupby('cluster')[['SKH_BW', 'SKH_notBW', 'BW_SKH', 'BW_notSKH']].sum().reset_index()"
   ]
  },
  {
   "cell_type": "code",
   "execution_count": 61,
   "metadata": {},
   "outputs": [
    {
     "data": {
      "text/html": [
       "<div>\n",
       "<style scoped>\n",
       "    .dataframe tbody tr th:only-of-type {\n",
       "        vertical-align: middle;\n",
       "    }\n",
       "\n",
       "    .dataframe tbody tr th {\n",
       "        vertical-align: top;\n",
       "    }\n",
       "\n",
       "    .dataframe thead th {\n",
       "        text-align: right;\n",
       "    }\n",
       "</style>\n",
       "<table border=\"1\" class=\"dataframe\">\n",
       "  <thead>\n",
       "    <tr style=\"text-align: right;\">\n",
       "      <th></th>\n",
       "      <th>cluster</th>\n",
       "      <th>SKH_BW</th>\n",
       "      <th>SKH_notBW</th>\n",
       "      <th>BW_SKH</th>\n",
       "      <th>BW_notSKH</th>\n",
       "    </tr>\n",
       "  </thead>\n",
       "  <tbody>\n",
       "    <tr>\n",
       "      <th>0</th>\n",
       "      <td>0</td>\n",
       "      <td>2380</td>\n",
       "      <td>2222</td>\n",
       "      <td>1881</td>\n",
       "      <td>1415</td>\n",
       "    </tr>\n",
       "    <tr>\n",
       "      <th>1</th>\n",
       "      <td>1</td>\n",
       "      <td>92</td>\n",
       "      <td>238</td>\n",
       "      <td>32</td>\n",
       "      <td>56</td>\n",
       "    </tr>\n",
       "    <tr>\n",
       "      <th>2</th>\n",
       "      <td>2</td>\n",
       "      <td>3</td>\n",
       "      <td>3</td>\n",
       "      <td>7</td>\n",
       "      <td>4</td>\n",
       "    </tr>\n",
       "    <tr>\n",
       "      <th>3</th>\n",
       "      <td>3</td>\n",
       "      <td>760</td>\n",
       "      <td>779</td>\n",
       "      <td>412</td>\n",
       "      <td>271</td>\n",
       "    </tr>\n",
       "    <tr>\n",
       "      <th>4</th>\n",
       "      <td>4</td>\n",
       "      <td>263</td>\n",
       "      <td>407</td>\n",
       "      <td>123</td>\n",
       "      <td>82</td>\n",
       "    </tr>\n",
       "    <tr>\n",
       "      <th>5</th>\n",
       "      <td>5</td>\n",
       "      <td>1505</td>\n",
       "      <td>1117</td>\n",
       "      <td>1307</td>\n",
       "      <td>1076</td>\n",
       "    </tr>\n",
       "  </tbody>\n",
       "</table>\n",
       "</div>"
      ],
      "text/plain": [
       "   cluster  SKH_BW  SKH_notBW  BW_SKH  BW_notSKH\n",
       "0        0    2380       2222    1881       1415\n",
       "1        1      92        238      32         56\n",
       "2        2       3          3       7          4\n",
       "3        3     760        779     412        271\n",
       "4        4     263        407     123         82\n",
       "5        5    1505       1117    1307       1076"
      ]
     },
     "execution_count": 61,
     "metadata": {},
     "output_type": "execute_result"
    }
   ],
   "source": [
    "ag"
   ]
  },
  {
   "cell_type": "markdown",
   "metadata": {},
   "source": [
    "The flow of second round votes doesn't seem to reveal much. Going to bring back in the vote share data, see if that leads us anywhere."
   ]
  },
  {
   "cell_type": "code",
   "execution_count": 93,
   "metadata": {},
   "outputs": [],
   "source": [
    "full_results = pd.read_csv('../../cc_election_cleaning/election_results_with_vote_sponsor_cluster_FEB13.csv')"
   ]
  },
  {
   "cell_type": "code",
   "execution_count": 94,
   "metadata": {},
   "outputs": [
    {
     "data": {
      "text/plain": [
       "Index(['Precinct', 'vote', 'total_vote_precinct', 'vote_share', 'ed_name',\n",
       "       'winner', 'rank', 'district', 'candidate', 'matched_name',\n",
       "       'kmode_cluster', 'member', 'ElectDist_x', 'ML4', 'ML6', 'ML5', 'ML2',\n",
       "       'ML7', 'ML3', 'ML1', 'district_cluster', 'ElectDist_y', 'Shape_Leng',\n",
       "       'Shape_Area', 'geometry', 'min_noise', 'max_noise',\n",
       "       'summer_noise_complaints', 'min_arrests', 'max_arrests', 'density',\n",
       "       'ldensity', 'p21own', 'p21rent', 'mhhi21', 'mean_noise', 'mean_arrests',\n",
       "       'living_alone_ratio', 'same_sex_ratio', 'black_nys_ratio',\n",
       "       'black_fb_ratio', 'white_transplant_ratio', 'femHHH_ratio',\n",
       "       'drive_ratio', 'train_ratio', 'walk_ratio', 'bike_ratio', 'wfh_ratio',\n",
       "       'bus_ratio', 'hh21olongp', 'h21p', 'nha21p', 'nhb21p', 'nhw21p',\n",
       "       'mex21p', 'prican21p', 'domin21p', 'colomb21p', 'kor21p', 'chin21p',\n",
       "       'venez21p', 'hh21op', 'hh21rc', 'range_of_arrests', 'range_of_noise',\n",
       "       'cvap21bapp', 'rv21irp', 'rv21italp', 'pg20jrbp', 'pg20djtp', 'dpp20bs',\n",
       "       'adams213p', 'garcia213p', 'winda21p', 'perc_retail', 'perc_finance',\n",
       "       'perc_healthcare'],\n",
       "      dtype='object')"
      ]
     },
     "execution_count": 94,
     "metadata": {},
     "output_type": "execute_result"
    }
   ],
   "source": [
    "full_results.columns"
   ]
  },
  {
   "cell_type": "code",
   "execution_count": 104,
   "metadata": {},
   "outputs": [],
   "source": [
    "full_results = full_results[['ed_name','vote', 'total_vote_precinct', 'vote_share', \n",
    "       'winner', 'rank', 'district', 'candidate',\n",
    "       'mex21p', 'prican21p', 'domin21p', 'colomb21p', 'kor21p', 'chin21p',\n",
    "       'venez21p', 'hh21op']]"
   ]
  },
  {
   "cell_type": "code",
   "execution_count": 105,
   "metadata": {},
   "outputs": [],
   "source": [
    "hanif = full_results[full_results['candidate'] == 'Shahana K. Hanif']"
   ]
  },
  {
   "cell_type": "code",
   "execution_count": 106,
   "metadata": {},
   "outputs": [],
   "source": [
    "hanif_demo = hanif.merge(d39_demo, left_on='ed_name', right_on='ed_name', how='left')"
   ]
  },
  {
   "cell_type": "code",
   "execution_count": 107,
   "metadata": {},
   "outputs": [
    {
     "data": {
      "text/plain": [
       "Index(['ed_name', 'vote', 'total_vote_precinct', 'vote_share', 'winner',\n",
       "       'rank', 'district', 'candidate', 'mex21p', 'prican21p', 'domin21p',\n",
       "       'colomb21p', 'kor21p', 'chin21p', 'venez21p', 'hh21op', 'Precinct',\n",
       "       'SKH_BW', 'SKH_notBW', 'BW_SKH', 'BW_notSKH', 'neither', 'biggest',\n",
       "       'AD', 'ED', 'ElectDist', 'Shape_Leng', 'Shape_Area', 'geometry',\n",
       "       'mhhi21', 'Agriculture, Forestry, Fishing and Hunting',\n",
       "       'Mining, Quarrying, and Oil and Gas Extraction', 'Utilities',\n",
       "       'Construction', 'Manufacturing', 'Wholesale Trade', 'Retail Trade',\n",
       "       'Transportation and Warehousing', 'Information',\n",
       "       'Finance and Insurance', 'Real Estate and Rental and Leasing',\n",
       "       'Professional, Scientific, and Technical Services',\n",
       "       'Management of Companies and Enterprises',\n",
       "       'Administrative and Support and Waste Management and Remediation Services',\n",
       "       'Educational Services', 'Health Care and Social Assistance',\n",
       "       'Arts, Entertainment, and Recreation',\n",
       "       'Accommodation and Food Services',\n",
       "       'Other Services [except Public Administration]',\n",
       "       'Public Administration', 'nha21p', 'nhb21p', 'nhw21p', 'h21p',\n",
       "       'cvap21bapp', 'cluster'],\n",
       "      dtype='object')"
      ]
     },
     "execution_count": 107,
     "metadata": {},
     "output_type": "execute_result"
    }
   ],
   "source": [
    "hanif_demo.columns"
   ]
  },
  {
   "cell_type": "code",
   "execution_count": 108,
   "metadata": {},
   "outputs": [],
   "source": [
    "cols_to_keep = ['ed_name','mhhi21','Construction', 'Manufacturing', 'Wholesale Trade', 'Retail Trade',\n",
    "       'Transportation and Warehousing', 'Information',\n",
    "       'Finance and Insurance', 'Real Estate and Rental and Leasing',\n",
    "       'Professional, Scientific, and Technical Services',\n",
    "       'Management of Companies and Enterprises',\n",
    "       'Administrative and Support and Waste Management and Remediation Services',\n",
    "       'Educational Services', 'Health Care and Social Assistance',\n",
    "       'Arts, Entertainment, and Recreation',\n",
    "       'Accommodation and Food Services',\n",
    "       'Other Services [except Public Administration]',\n",
    "       'Public Administration', 'h21p','nha21p', 'nhb21p', 'nhw21p', 'cvap21bapp',\n",
    "       'mex21p', 'prican21p', 'domin21p', 'colomb21p', 'kor21p', 'chin21p',\n",
    "       'venez21p', 'hh21op']\n",
    "df = hanif_demo[cols_to_keep]\n",
    "df = df.dropna()\n",
    "features = df.drop(columns=['ed_name'])"
   ]
  },
  {
   "cell_type": "code",
   "execution_count": 109,
   "metadata": {},
   "outputs": [],
   "source": [
    "scaler = StandardScaler()\n",
    "scaled_features = scaler.fit_transform(features)"
   ]
  },
  {
   "cell_type": "code",
   "execution_count": 110,
   "metadata": {},
   "outputs": [
    {
     "name": "stderr",
     "output_type": "stream",
     "text": [
      "c:\\Users\\samtg\\AppData\\Local\\Programs\\Python\\Python311\\Lib\\site-packages\\sklearn\\cluster\\_kmeans.py:1412: FutureWarning: The default value of `n_init` will change from 10 to 'auto' in 1.4. Set the value of `n_init` explicitly to suppress the warning\n",
      "  super()._check_params_vs_input(X, default_n_init=10)\n"
     ]
    }
   ],
   "source": [
    "kmeans = KMeans(n_clusters=6, random_state=0)\n",
    "kmeans.fit(scaled_features)\n",
    "hanif_demo['cluster'] = kmeans.labels_"
   ]
  },
  {
   "cell_type": "code",
   "execution_count": 112,
   "metadata": {},
   "outputs": [],
   "source": [
    "averages = hanif_demo.groupby('cluster')[cols_to_keep].mean().reset_index()\n",
    "averages['top_three'] = averages[job_cols].apply(lambda row: row.nlargest(3).index.tolist(), axis=1)\n",
    "averages['max_race_col'] = averages[race_cols].idxmax(axis=1)"
   ]
  },
  {
   "cell_type": "code",
   "execution_count": 114,
   "metadata": {},
   "outputs": [
    {
     "data": {
      "text/html": [
       "<div>\n",
       "<style scoped>\n",
       "    .dataframe tbody tr th:only-of-type {\n",
       "        vertical-align: middle;\n",
       "    }\n",
       "\n",
       "    .dataframe tbody tr th {\n",
       "        vertical-align: top;\n",
       "    }\n",
       "\n",
       "    .dataframe thead th {\n",
       "        text-align: right;\n",
       "    }\n",
       "</style>\n",
       "<table border=\"1\" class=\"dataframe\">\n",
       "  <thead>\n",
       "    <tr style=\"text-align: right;\">\n",
       "      <th></th>\n",
       "      <th>cluster</th>\n",
       "      <th>nhw21p</th>\n",
       "      <th>nha21p</th>\n",
       "      <th>h21p</th>\n",
       "      <th>cvap21bapp</th>\n",
       "      <th>mhhi21</th>\n",
       "      <th>top_three</th>\n",
       "    </tr>\n",
       "  </thead>\n",
       "  <tbody>\n",
       "    <tr>\n",
       "      <th>0</th>\n",
       "      <td>0</td>\n",
       "      <td>63.186542</td>\n",
       "      <td>10.573839</td>\n",
       "      <td>14.144892</td>\n",
       "      <td>69.432310</td>\n",
       "      <td>136471.108628</td>\n",
       "      <td>[Professional, Scientific, and Technical Services, Finance and Insurance, Health Care and Social Assistance]</td>\n",
       "    </tr>\n",
       "    <tr>\n",
       "      <th>1</th>\n",
       "      <td>1</td>\n",
       "      <td>42.933197</td>\n",
       "      <td>18.498809</td>\n",
       "      <td>17.656249</td>\n",
       "      <td>48.605038</td>\n",
       "      <td>70386.530057</td>\n",
       "      <td>[Health Care and Social Assistance, Retail Trade, Professional, Scientific, and Technical Services]</td>\n",
       "    </tr>\n",
       "    <tr>\n",
       "      <th>2</th>\n",
       "      <td>2</td>\n",
       "      <td>33.915731</td>\n",
       "      <td>16.588399</td>\n",
       "      <td>22.687411</td>\n",
       "      <td>31.624203</td>\n",
       "      <td>81862.994027</td>\n",
       "      <td>[Health Care and Social Assistance, Retail Trade, Accommodation and Food Services]</td>\n",
       "    </tr>\n",
       "    <tr>\n",
       "      <th>3</th>\n",
       "      <td>3</td>\n",
       "      <td>53.698162</td>\n",
       "      <td>8.610324</td>\n",
       "      <td>23.257584</td>\n",
       "      <td>60.675457</td>\n",
       "      <td>128552.176583</td>\n",
       "      <td>[Health Care and Social Assistance, Professional, Scientific, and Technical Services, Finance and Insurance]</td>\n",
       "    </tr>\n",
       "    <tr>\n",
       "      <th>4</th>\n",
       "      <td>4</td>\n",
       "      <td>24.347287</td>\n",
       "      <td>17.693615</td>\n",
       "      <td>41.852288</td>\n",
       "      <td>33.721714</td>\n",
       "      <td>106125.909448</td>\n",
       "      <td>[Retail Trade, Health Care and Social Assistance, Finance and Insurance]</td>\n",
       "    </tr>\n",
       "    <tr>\n",
       "      <th>5</th>\n",
       "      <td>5</td>\n",
       "      <td>43.649368</td>\n",
       "      <td>8.630897</td>\n",
       "      <td>31.507349</td>\n",
       "      <td>52.964777</td>\n",
       "      <td>137221.667009</td>\n",
       "      <td>[Health Care and Social Assistance, Professional, Scientific, and Technical Services, Accommodation and Food Services]</td>\n",
       "    </tr>\n",
       "  </tbody>\n",
       "</table>\n",
       "</div>"
      ],
      "text/plain": [
       "   cluster     nhw21p     nha21p       h21p  cvap21bapp         mhhi21  \\\n",
       "0        0  63.186542  10.573839  14.144892   69.432310  136471.108628   \n",
       "1        1  42.933197  18.498809  17.656249   48.605038   70386.530057   \n",
       "2        2  33.915731  16.588399  22.687411   31.624203   81862.994027   \n",
       "3        3  53.698162   8.610324  23.257584   60.675457  128552.176583   \n",
       "4        4  24.347287  17.693615  41.852288   33.721714  106125.909448   \n",
       "5        5  43.649368   8.630897  31.507349   52.964777  137221.667009   \n",
       "\n",
       "                                                                                                                top_three  \n",
       "0            [Professional, Scientific, and Technical Services, Finance and Insurance, Health Care and Social Assistance]  \n",
       "1                     [Health Care and Social Assistance, Retail Trade, Professional, Scientific, and Technical Services]  \n",
       "2                                      [Health Care and Social Assistance, Retail Trade, Accommodation and Food Services]  \n",
       "3            [Health Care and Social Assistance, Professional, Scientific, and Technical Services, Finance and Insurance]  \n",
       "4                                                [Retail Trade, Health Care and Social Assistance, Finance and Insurance]  \n",
       "5  [Health Care and Social Assistance, Professional, Scientific, and Technical Services, Accommodation and Food Services]  "
      ]
     },
     "execution_count": 114,
     "metadata": {},
     "output_type": "execute_result"
    }
   ],
   "source": [
    "averages[['cluster', 'nhw21p','nha21p','h21p','cvap21bapp','mhhi21','top_three']]"
   ]
  },
  {
   "cell_type": "code",
   "execution_count": 115,
   "metadata": {},
   "outputs": [
    {
     "data": {
      "text/html": [
       "<div>\n",
       "<style scoped>\n",
       "    .dataframe tbody tr th:only-of-type {\n",
       "        vertical-align: middle;\n",
       "    }\n",
       "\n",
       "    .dataframe tbody tr th {\n",
       "        vertical-align: top;\n",
       "    }\n",
       "\n",
       "    .dataframe thead th {\n",
       "        text-align: right;\n",
       "    }\n",
       "</style>\n",
       "<table border=\"1\" class=\"dataframe\">\n",
       "  <thead>\n",
       "    <tr style=\"text-align: right;\">\n",
       "      <th></th>\n",
       "      <th>cluster</th>\n",
       "      <th>vote_share</th>\n",
       "    </tr>\n",
       "  </thead>\n",
       "  <tbody>\n",
       "    <tr>\n",
       "      <th>0</th>\n",
       "      <td>0</td>\n",
       "      <td>26.570508</td>\n",
       "    </tr>\n",
       "    <tr>\n",
       "      <th>1</th>\n",
       "      <td>1</td>\n",
       "      <td>40.696962</td>\n",
       "    </tr>\n",
       "    <tr>\n",
       "      <th>2</th>\n",
       "      <td>2</td>\n",
       "      <td>25.955160</td>\n",
       "    </tr>\n",
       "    <tr>\n",
       "      <th>3</th>\n",
       "      <td>3</td>\n",
       "      <td>31.893101</td>\n",
       "    </tr>\n",
       "    <tr>\n",
       "      <th>4</th>\n",
       "      <td>4</td>\n",
       "      <td>17.291667</td>\n",
       "    </tr>\n",
       "    <tr>\n",
       "      <th>5</th>\n",
       "      <td>5</td>\n",
       "      <td>29.849580</td>\n",
       "    </tr>\n",
       "  </tbody>\n",
       "</table>\n",
       "</div>"
      ],
      "text/plain": [
       "   cluster  vote_share\n",
       "0        0   26.570508\n",
       "1        1   40.696962\n",
       "2        2   25.955160\n",
       "3        3   31.893101\n",
       "4        4   17.291667\n",
       "5        5   29.849580"
      ]
     },
     "execution_count": 115,
     "metadata": {},
     "output_type": "execute_result"
    }
   ],
   "source": [
    "hanif_demo.groupby('cluster')['vote_share'].mean().reset_index()"
   ]
  },
  {
   "cell_type": "code",
   "execution_count": 124,
   "metadata": {},
   "outputs": [],
   "source": [
    "df_gdf = hanif_demo.merge(ed_gdf,left_on='ed_name' ,right_on='ElectDist', how='left')\n"
   ]
  }
 ],
 "metadata": {
  "kernelspec": {
   "display_name": "Python 3",
   "language": "python",
   "name": "python3"
  },
  "language_info": {
   "codemirror_mode": {
    "name": "ipython",
    "version": 3
   },
   "file_extension": ".py",
   "mimetype": "text/x-python",
   "name": "python",
   "nbconvert_exporter": "python",
   "pygments_lexer": "ipython3",
   "version": "3.11.4"
  }
 },
 "nbformat": 4,
 "nbformat_minor": 2
}
