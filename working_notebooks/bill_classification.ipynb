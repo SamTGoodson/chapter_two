{
 "cells": [
  {
   "cell_type": "code",
   "execution_count": 1,
   "metadata": {},
   "outputs": [],
   "source": [
    "import pandas as pd\n",
    "import numpy as np\n",
    "\n",
    "import gspread\n",
    "\n",
    "from sklearn.feature_extraction.text import TfidfVectorizer\n",
    "from sklearn.naive_bayes import MultinomialNB\n",
    "from sklearn.model_selection import train_test_split"
   ]
  },
  {
   "cell_type": "code",
   "execution_count": null,
   "metadata": {},
   "outputs": [],
   "source": [
    "gc = gspread.service_account()"
   ]
  },
  {
   "cell_type": "code",
   "execution_count": 67,
   "metadata": {},
   "outputs": [],
   "source": [
    "cb = gc.open_by_key('1tjosPLovf5tLe0kiDsO6hEu2aSkkOpeapAlbf0PnDTY')\n",
    "bills = cb.worksheet('Sheet1')\n",
    "bills = bills.get_all_records()\n",
    "bills = pd.DataFrame(bills)"
   ]
  },
  {
   "cell_type": "code",
   "execution_count": null,
   "metadata": {},
   "outputs": [],
   "source": [
    "bills_uncat = pd.read_csv('../../cc_legislation/data/bills_with_cluster_count.csv')"
   ]
  },
  {
   "cell_type": "code",
   "execution_count": 69,
   "metadata": {},
   "outputs": [],
   "source": [
    "vectorizer = TfidfVectorizer()"
   ]
  },
  {
   "cell_type": "code",
   "execution_count": 52,
   "metadata": {},
   "outputs": [
    {
     "data": {
      "text/plain": [
       "Index(['MatterSponsorMatterId', 'sponsors', 'cluster_0', 'cluster_1',\n",
       "       'cluster_2', 'cluster_3', 'cluster_4', 'primary_sponsor_cluster',\n",
       "       'EventItemMatterStatus', 'EventItemMatterFile', 'EventItemMatterName',\n",
       "       'category'],\n",
       "      dtype='object')"
      ]
     },
     "execution_count": 52,
     "metadata": {},
     "output_type": "execute_result"
    }
   ],
   "source": [
    "bills.columns"
   ]
  },
  {
   "cell_type": "code",
   "execution_count": 70,
   "metadata": {},
   "outputs": [],
   "source": [
    "# only bills with a category\n",
    "bills_test = bills[bills['category'].notnull()]"
   ]
  },
  {
   "cell_type": "code",
   "execution_count": 71,
   "metadata": {},
   "outputs": [],
   "source": [
    "bills_test = bills_test[bills_test['category'].str.strip() != '']"
   ]
  },
  {
   "cell_type": "code",
   "execution_count": 72,
   "metadata": {},
   "outputs": [
    {
     "data": {
      "text/plain": [
       "(323, 12)"
      ]
     },
     "execution_count": 72,
     "metadata": {},
     "output_type": "execute_result"
    }
   ],
   "source": [
    "bills_test.shape"
   ]
  },
  {
   "cell_type": "code",
   "execution_count": 64,
   "metadata": {},
   "outputs": [
    {
     "data": {
      "text/plain": [
       "category\n",
       "Streets                  35\n",
       "Public Health            32\n",
       "Tenant Protection        21\n",
       "Worker Protection        21\n",
       "Public Welfare/Safety    19\n",
       "Schools                  18\n",
       "Government Service       17\n",
       "Good Governance          17\n",
       "Gender and Sexuality     15\n",
       "Business                 15\n",
       "Climate                  15\n",
       "Incarceration/Jails      15\n",
       "Policing                 14\n",
       "Transit                  13\n",
       "Homelessness             12\n",
       "Sanitation               12\n",
       "Housing                  11\n",
       "Animal Welfare            9\n",
       "Consumer Protection       7\n",
       "Accessability             5\n",
       "Name: count, dtype: int64"
      ]
     },
     "execution_count": 64,
     "metadata": {},
     "output_type": "execute_result"
    }
   ],
   "source": [
    "bills_test['category'].value_counts()"
   ]
  },
  {
   "cell_type": "code",
   "execution_count": 73,
   "metadata": {},
   "outputs": [],
   "source": [
    "X = vectorizer.fit_transform(bills_test['EventItemMatterName'])\n",
    "y = bills_test['category']\n",
    "X_train, X_test, y_train, y_test = train_test_split(X, y, test_size=0.2, random_state=42)"
   ]
  },
  {
   "cell_type": "code",
   "execution_count": 74,
   "metadata": {},
   "outputs": [
    {
     "name": "stdout",
     "output_type": "stream",
     "text": [
      "0.13846153846153847\n"
     ]
    }
   ],
   "source": [
    "model = MultinomialNB()\n",
    "model.fit(X_train, y_train)\n",
    "print(model.score(X_test, y_test))"
   ]
  },
  {
   "cell_type": "code",
   "execution_count": 75,
   "metadata": {},
   "outputs": [],
   "source": [
    "# predict the category of the uncategorized bills\n",
    "X_uncat = vectorizer.transform(bills['EventItemMatterName'])\n",
    "y_uncat = model.predict(X_uncat)\n",
    "bills['guess_catagory'] = y_uncat"
   ]
  },
  {
   "cell_type": "code",
   "execution_count": 76,
   "metadata": {},
   "outputs": [
    {
     "data": {
      "text/plain": [
       "0    Tenant Protection\n",
       "1              Streets\n",
       "2              Streets\n",
       "3              Streets\n",
       "4              Streets\n",
       "Name: guess_catagory, dtype: object"
      ]
     },
     "execution_count": 76,
     "metadata": {},
     "output_type": "execute_result"
    }
   ],
   "source": [
    "bills['guess_catagory'].head()"
   ]
  },
  {
   "cell_type": "code",
   "execution_count": 80,
   "metadata": {},
   "outputs": [
    {
     "data": {
      "text/plain": [
       "primary_sponsor_cluster  guess_catagory       \n",
       "0                        Streets                  216\n",
       "                         Public Health             81\n",
       "                         Schools                    7\n",
       "                         Tenant Protection          4\n",
       "                         Gender and Sexuality       4\n",
       "                         Worker Protection          2\n",
       "                         Public Welfare/Safety      2\n",
       "                         Government Service         2\n",
       "                         Business                   1\n",
       "                         Sanitation                 1\n",
       "1                        Streets                  136\n",
       "                         Public Health             26\n",
       "                         Government Service         4\n",
       "                         Tenant Protection          2\n",
       "                         Sanitation                 2\n",
       "                         Public Welfare/Safety      2\n",
       "                         Worker Protection          1\n",
       "                         Homelessness               1\n",
       "                         Climate                    1\n",
       "                         Business                   1\n",
       "2                        Streets                  221\n",
       "                         Public Health             99\n",
       "                         Schools                    9\n",
       "                         Government Service         7\n",
       "                         Public Welfare/Safety      4\n",
       "                         Business                   4\n",
       "                         Tenant Protection          3\n",
       "                         Gender and Sexuality       2\n",
       "                         Homelessness               1\n",
       "                         Worker Protection          1\n",
       "3                        Streets                  103\n",
       "                         Public Health             43\n",
       "                         Gender and Sexuality       3\n",
       "                         Climate                    2\n",
       "                         Worker Protection          2\n",
       "                         Tenant Protection          1\n",
       "                         Schools                    1\n",
       "                         Government Service         1\n",
       "4                        Streets                  128\n",
       "                         Public Health             35\n",
       "                         Worker Protection          5\n",
       "                         Public Welfare/Safety      4\n",
       "                         Schools                    4\n",
       "                         Tenant Protection          2\n",
       "                         Gender and Sexuality       2\n",
       "                         Homelessness               1\n",
       "                         Government Service         1\n",
       "                         Good Governance            1\n",
       "                         Climate                    1\n",
       "                         Streets                   50\n",
       "                         Public Health             32\n",
       "                         Government Service         2\n",
       "                         Worker Protection          2\n",
       "                         Homelessness               2\n",
       "                         Public Welfare/Safety      2\n",
       "                         Schools                    2\n",
       "                         Tenant Protection          2\n",
       "                         Gender and Sexuality       1\n",
       "Name: count, dtype: int64"
      ]
     },
     "execution_count": 80,
     "metadata": {},
     "output_type": "execute_result"
    }
   ],
   "source": [
    "bills.groupby('primary_sponsor_cluster')['guess_catagory'].value_counts()"
   ]
  }
 ],
 "metadata": {
  "kernelspec": {
   "display_name": "Python 3",
   "language": "python",
   "name": "python3"
  },
  "language_info": {
   "codemirror_mode": {
    "name": "ipython",
    "version": 3
   },
   "file_extension": ".py",
   "mimetype": "text/x-python",
   "name": "python",
   "nbconvert_exporter": "python",
   "pygments_lexer": "ipython3",
   "version": "3.11.4"
  }
 },
 "nbformat": 4,
 "nbformat_minor": 2
}
