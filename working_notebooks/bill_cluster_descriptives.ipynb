{
 "cells": [
  {
   "cell_type": "code",
   "execution_count": 1,
   "metadata": {},
   "outputs": [],
   "source": [
    "import pandas as pd\n",
    "import numpy as np"
   ]
  },
  {
   "cell_type": "code",
   "execution_count": 2,
   "metadata": {},
   "outputs": [],
   "source": [
    "from collections import Counter "
   ]
  },
  {
   "cell_type": "code",
   "execution_count": 3,
   "metadata": {},
   "outputs": [],
   "source": [
    "from nltk.corpus import stopwords\n",
    "from nltk.tokenize import word_tokenize, sent_tokenize"
   ]
  },
  {
   "cell_type": "code",
   "execution_count": 4,
   "metadata": {},
   "outputs": [],
   "source": [
    "from sklearn.feature_extraction.text import TfidfVectorizer"
   ]
  },
  {
   "cell_type": "code",
   "execution_count": 5,
   "metadata": {},
   "outputs": [],
   "source": [
    "import ast"
   ]
  },
  {
   "cell_type": "code",
   "execution_count": 6,
   "metadata": {},
   "outputs": [],
   "source": [
    "bills_uncat = pd.read_csv('../../cc_legislation/data/bills_with_cluster_count.csv')"
   ]
  },
  {
   "cell_type": "code",
   "execution_count": 7,
   "metadata": {},
   "outputs": [],
   "source": [
    "prime_sponsors = pd.read_csv('../../cc_legislation/data/prime_sponsors_community.csv')"
   ]
  },
  {
   "cell_type": "code",
   "execution_count": 8,
   "metadata": {},
   "outputs": [],
   "source": [
    "ps = prime_sponsors[['EventItemMatterFile', 'MatterSponsorName']]"
   ]
  },
  {
   "cell_type": "code",
   "execution_count": 9,
   "metadata": {},
   "outputs": [],
   "source": [
    "ps.columns = ['EventItemMatterFile', 'primary_sponsor']"
   ]
  },
  {
   "cell_type": "code",
   "execution_count": 10,
   "metadata": {},
   "outputs": [],
   "source": [
    "bills_uncat = bills_uncat.merge(ps, on='EventItemMatterFile', how='left')"
   ]
  },
  {
   "cell_type": "code",
   "execution_count": 11,
   "metadata": {},
   "outputs": [],
   "source": [
    "bills_uncat['total_sponsors'] = bills_uncat['cluster_0'] + bills_uncat['cluster_1'] + bills_uncat['cluster_2'] + bills_uncat['cluster_3'] + bills_uncat['cluster_4']"
   ]
  },
  {
   "cell_type": "code",
   "execution_count": 12,
   "metadata": {},
   "outputs": [],
   "source": [
    "bills_uncat['percent_cluster_3'] = round(bills_uncat['cluster_3'] / bills_uncat['total_sponsors'] * 100, 2)"
   ]
  },
  {
   "cell_type": "code",
   "execution_count": 115,
   "metadata": {},
   "outputs": [],
   "source": [
    "# display max col width\n",
    "pd.set_option('display.max_colwidth', None)"
   ]
  },
  {
   "cell_type": "code",
   "execution_count": 13,
   "metadata": {},
   "outputs": [
    {
     "data": {
      "text/html": [
       "<div>\n",
       "<style scoped>\n",
       "    .dataframe tbody tr th:only-of-type {\n",
       "        vertical-align: middle;\n",
       "    }\n",
       "\n",
       "    .dataframe tbody tr th {\n",
       "        vertical-align: top;\n",
       "    }\n",
       "\n",
       "    .dataframe thead th {\n",
       "        text-align: right;\n",
       "    }\n",
       "</style>\n",
       "<table border=\"1\" class=\"dataframe\">\n",
       "  <thead>\n",
       "    <tr style=\"text-align: right;\">\n",
       "      <th></th>\n",
       "      <th>sponsors</th>\n",
       "      <th>total_sponsors</th>\n",
       "      <th>EventItemMatterStatus</th>\n",
       "      <th>EventItemMatterFile</th>\n",
       "      <th>EventItemMatterName</th>\n",
       "      <th>percent_cluster_3</th>\n",
       "    </tr>\n",
       "  </thead>\n",
       "  <tbody>\n",
       "    <tr>\n",
       "      <th>1047</th>\n",
       "      <td>['Tiffany Cabán', 'Shahana K. Hanif', 'Lincoln...</td>\n",
       "      <td>5</td>\n",
       "      <td>Filed (End of Session)</td>\n",
       "      <td>Int 1144-2023</td>\n",
       "      <td>Requiring building owners to provide informati...</td>\n",
       "      <td>100.00</td>\n",
       "    </tr>\n",
       "    <tr>\n",
       "      <th>1268</th>\n",
       "      <td>['Lincoln Restler', 'Jennifer Gutiérrez']</td>\n",
       "      <td>2</td>\n",
       "      <td>Filed (End of Session)</td>\n",
       "      <td>Int 1276-2023</td>\n",
       "      <td>Requiring taxis and for-hire vehicles to displ...</td>\n",
       "      <td>100.00</td>\n",
       "    </tr>\n",
       "    <tr>\n",
       "      <th>265</th>\n",
       "      <td>['Lincoln Restler', 'Shahana K. Hanif', 'Tiffa...</td>\n",
       "      <td>3</td>\n",
       "      <td>Filed (End of Session)</td>\n",
       "      <td>Int 0189-2022</td>\n",
       "      <td>Developing a college admissions counseling pro...</td>\n",
       "      <td>100.00</td>\n",
       "    </tr>\n",
       "    <tr>\n",
       "      <th>778</th>\n",
       "      <td>['Chi A. Ossé', 'Shahana K. Hanif', 'Tiffany C...</td>\n",
       "      <td>3</td>\n",
       "      <td>Filed (End of Session)</td>\n",
       "      <td>Int 1053-2023</td>\n",
       "      <td>Requiring low-wage workers to enter into coven...</td>\n",
       "      <td>100.00</td>\n",
       "    </tr>\n",
       "    <tr>\n",
       "      <th>707</th>\n",
       "      <td>['Lincoln Restler', 'Shahana K. Hanif', 'Publi...</td>\n",
       "      <td>2</td>\n",
       "      <td>Filed (End of Session)</td>\n",
       "      <td>Int 0736-2022</td>\n",
       "      <td>Requiring a study and mitigation of the impact...</td>\n",
       "      <td>100.00</td>\n",
       "    </tr>\n",
       "    <tr>\n",
       "      <th>872</th>\n",
       "      <td>['Selvena N. Brooks-Powers', 'Kristin Richards...</td>\n",
       "      <td>5</td>\n",
       "      <td>Filed (End of Session)</td>\n",
       "      <td>Int 0900-2023</td>\n",
       "      <td>Enhancing penalties for sidewalk parking and i...</td>\n",
       "      <td>80.00</td>\n",
       "    </tr>\n",
       "    <tr>\n",
       "      <th>917</th>\n",
       "      <td>['Kristin Richardson Jordan', 'Chi A. Ossé', '...</td>\n",
       "      <td>10</td>\n",
       "      <td>Filed (End of Session)</td>\n",
       "      <td>Int 0837-2022</td>\n",
       "      <td>Wrongful discharge from employment.</td>\n",
       "      <td>80.00</td>\n",
       "    </tr>\n",
       "    <tr>\n",
       "      <th>285</th>\n",
       "      <td>['Alexa Avilés', 'Chi A. Ossé', 'Kristin Richa...</td>\n",
       "      <td>4</td>\n",
       "      <td>Withdrawn</td>\n",
       "      <td>Int 0144-2022</td>\n",
       "      <td>Creating an elected civilian review board and ...</td>\n",
       "      <td>75.00</td>\n",
       "    </tr>\n",
       "    <tr>\n",
       "      <th>695</th>\n",
       "      <td>['Sandy Nurse', 'Chi A. Ossé', 'Crystal Hudson...</td>\n",
       "      <td>8</td>\n",
       "      <td>Filed (End of Session)</td>\n",
       "      <td>Int 1054-2023</td>\n",
       "      <td>Requiring the licensing of last-mile distribut...</td>\n",
       "      <td>75.00</td>\n",
       "    </tr>\n",
       "    <tr>\n",
       "      <th>995</th>\n",
       "      <td>['Kristin Richardson Jordan', 'Crystal Hudson'...</td>\n",
       "      <td>7</td>\n",
       "      <td>Filed (End of Session)</td>\n",
       "      <td>Int 0925-2023</td>\n",
       "      <td>NYC plumbing code, and the NYC building code, ...</td>\n",
       "      <td>71.43</td>\n",
       "    </tr>\n",
       "  </tbody>\n",
       "</table>\n",
       "</div>"
      ],
      "text/plain": [
       "                                               sponsors  total_sponsors  \\\n",
       "1047  ['Tiffany Cabán', 'Shahana K. Hanif', 'Lincoln...               5   \n",
       "1268          ['Lincoln Restler', 'Jennifer Gutiérrez']               2   \n",
       "265   ['Lincoln Restler', 'Shahana K. Hanif', 'Tiffa...               3   \n",
       "778   ['Chi A. Ossé', 'Shahana K. Hanif', 'Tiffany C...               3   \n",
       "707   ['Lincoln Restler', 'Shahana K. Hanif', 'Publi...               2   \n",
       "872   ['Selvena N. Brooks-Powers', 'Kristin Richards...               5   \n",
       "917   ['Kristin Richardson Jordan', 'Chi A. Ossé', '...              10   \n",
       "285   ['Alexa Avilés', 'Chi A. Ossé', 'Kristin Richa...               4   \n",
       "695   ['Sandy Nurse', 'Chi A. Ossé', 'Crystal Hudson...               8   \n",
       "995   ['Kristin Richardson Jordan', 'Crystal Hudson'...               7   \n",
       "\n",
       "       EventItemMatterStatus EventItemMatterFile  \\\n",
       "1047  Filed (End of Session)       Int 1144-2023   \n",
       "1268  Filed (End of Session)       Int 1276-2023   \n",
       "265   Filed (End of Session)       Int 0189-2022   \n",
       "778   Filed (End of Session)       Int 1053-2023   \n",
       "707   Filed (End of Session)       Int 0736-2022   \n",
       "872   Filed (End of Session)       Int 0900-2023   \n",
       "917   Filed (End of Session)       Int 0837-2022   \n",
       "285                Withdrawn       Int 0144-2022   \n",
       "695   Filed (End of Session)       Int 1054-2023   \n",
       "995   Filed (End of Session)       Int 0925-2023   \n",
       "\n",
       "                                    EventItemMatterName  percent_cluster_3  \n",
       "1047  Requiring building owners to provide informati...             100.00  \n",
       "1268  Requiring taxis and for-hire vehicles to displ...             100.00  \n",
       "265   Developing a college admissions counseling pro...             100.00  \n",
       "778   Requiring low-wage workers to enter into coven...             100.00  \n",
       "707   Requiring a study and mitigation of the impact...             100.00  \n",
       "872   Enhancing penalties for sidewalk parking and i...              80.00  \n",
       "917                 Wrongful discharge from employment.              80.00  \n",
       "285   Creating an elected civilian review board and ...              75.00  \n",
       "695   Requiring the licensing of last-mile distribut...              75.00  \n",
       "995   NYC plumbing code, and the NYC building code, ...              71.43  "
      ]
     },
     "execution_count": 13,
     "metadata": {},
     "output_type": "execute_result"
    }
   ],
   "source": [
    "bills_uncat[bills_uncat['total_sponsors'] > 1][['sponsors','total_sponsors','EventItemMatterStatus','EventItemMatterFile','EventItemMatterName','percent_cluster_3']].sort_values('percent_cluster_3', ascending=False).head(10)"
   ]
  },
  {
   "cell_type": "code",
   "execution_count": 14,
   "metadata": {},
   "outputs": [
    {
     "data": {
      "text/plain": [
       "21.43"
      ]
     },
     "execution_count": 14,
     "metadata": {},
     "output_type": "execute_result"
    }
   ],
   "source": [
    "bills_uncat['percent_cluster_3'].median()"
   ]
  },
  {
   "cell_type": "code",
   "execution_count": 15,
   "metadata": {},
   "outputs": [],
   "source": [
    "three = bills_uncat[bills_uncat['primary_sponsor_cluster'] == 3]"
   ]
  },
  {
   "cell_type": "code",
   "execution_count": 16,
   "metadata": {},
   "outputs": [],
   "source": [
    "one = bills_uncat[bills_uncat['primary_sponsor_cluster'] == 1]\n",
    "two = bills_uncat[bills_uncat['primary_sponsor_cluster'] == 2]\n",
    "four = bills_uncat[bills_uncat['primary_sponsor_cluster'] == 4]"
   ]
  },
  {
   "cell_type": "code",
   "execution_count": 104,
   "metadata": {},
   "outputs": [
    {
     "data": {
      "text/plain": [
       "Index(['MatterSponsorMatterId', 'sponsors', 'cluster_0', 'cluster_1',\n",
       "       'cluster_2', 'cluster_3', 'cluster_4', 'primary_sponsor_cluster',\n",
       "       'EventItemMatterStatus', 'EventItemMatterFile', 'EventItemMatterName',\n",
       "       'total_sponsors', 'percent_cluster_3', 'prepared_text', 'joined_text'],\n",
       "      dtype='object')"
      ]
     },
     "execution_count": 104,
     "metadata": {},
     "output_type": "execute_result"
    }
   ],
   "source": [
    "three.columns"
   ]
  },
  {
   "cell_type": "code",
   "execution_count": 17,
   "metadata": {},
   "outputs": [
    {
     "data": {
      "text/plain": [
       "primary_sponsor\n",
       "tiffany cabán         7\n",
       "jennifer gutiérrez    6\n",
       "shahana k. hanif      5\n",
       "sandy nurse           4\n",
       "alexa avilés          4\n",
       "chi a. ossé           3\n",
       "lincoln restler       2\n",
       "Name: count, dtype: int64"
      ]
     },
     "execution_count": 17,
     "metadata": {},
     "output_type": "execute_result"
    }
   ],
   "source": [
    "three[three['EventItemMatterStatus'] == 'Enacted']['primary_sponsor'].value_counts()"
   ]
  },
  {
   "cell_type": "code",
   "execution_count": 111,
   "metadata": {},
   "outputs": [
    {
     "data": {
      "text/plain": [
       "primary_sponsor\n",
       "lincoln restler              22\n",
       "sandy nurse                  19\n",
       "shahana k. hanif             17\n",
       "alexa avilés                 17\n",
       "tiffany cabán                15\n",
       "chi a. ossé                  15\n",
       "jennifer gutiérrez           14\n",
       "kristin richardson jordan     6\n",
       "Name: count, dtype: int64"
      ]
     },
     "execution_count": 111,
     "metadata": {},
     "output_type": "execute_result"
    }
   ],
   "source": [
    "three[three['EventItemMatterStatus'] == 'Filed (End of Session)']['primary_sponsor'].value_counts()"
   ]
  },
  {
   "cell_type": "code",
   "execution_count": 122,
   "metadata": {},
   "outputs": [
    {
     "data": {
      "text/html": [
       "<div>\n",
       "<style scoped>\n",
       "    .dataframe tbody tr th:only-of-type {\n",
       "        vertical-align: middle;\n",
       "    }\n",
       "\n",
       "    .dataframe tbody tr th {\n",
       "        vertical-align: top;\n",
       "    }\n",
       "\n",
       "    .dataframe thead th {\n",
       "        text-align: right;\n",
       "    }\n",
       "</style>\n",
       "<table border=\"1\" class=\"dataframe\">\n",
       "  <thead>\n",
       "    <tr style=\"text-align: right;\">\n",
       "      <th></th>\n",
       "      <th>primary_sponsor</th>\n",
       "      <th>total_sponsors</th>\n",
       "      <th>EventItemMatterFile</th>\n",
       "      <th>EventItemMatterName</th>\n",
       "      <th>percent_cluster_3</th>\n",
       "    </tr>\n",
       "  </thead>\n",
       "  <tbody>\n",
       "    <tr>\n",
       "      <th>981</th>\n",
       "      <td>lynn c. schulman</td>\n",
       "      <td>43</td>\n",
       "      <td>Int 0918-2023</td>\n",
       "      <td>Requiring the department of health and mental hygiene to develop and implement a citywide diabetes incidence and impact reduction plan.</td>\n",
       "      <td>16.28</td>\n",
       "    </tr>\n",
       "    <tr>\n",
       "      <th>144</th>\n",
       "      <td>justin l. brannan</td>\n",
       "      <td>43</td>\n",
       "      <td>Int 0102-2022</td>\n",
       "      <td>Requiring the department of environmental protection to include information about the location of green roofs in an online map published by such department.</td>\n",
       "      <td>18.60</td>\n",
       "    </tr>\n",
       "    <tr>\n",
       "      <th>916</th>\n",
       "      <td>julie menin</td>\n",
       "      <td>41</td>\n",
       "      <td>Int 0844-2022</td>\n",
       "      <td>Establishing an office of healthcare accountability.</td>\n",
       "      <td>19.51</td>\n",
       "    </tr>\n",
       "    <tr>\n",
       "      <th>371</th>\n",
       "      <td>james f. gennaro</td>\n",
       "      <td>41</td>\n",
       "      <td>Int 0470-2022</td>\n",
       "      <td>Phasing out the use of fuel oil grade no. 4.</td>\n",
       "      <td>19.51</td>\n",
       "    </tr>\n",
       "    <tr>\n",
       "      <th>64</th>\n",
       "      <td>diana i. ayala</td>\n",
       "      <td>41</td>\n",
       "      <td>Int 0006-2022</td>\n",
       "      <td>Remediation of lead-based paint in dwelling units in multiple dwellings.</td>\n",
       "      <td>19.51</td>\n",
       "    </tr>\n",
       "    <tr>\n",
       "      <th>174</th>\n",
       "      <td>julie menin</td>\n",
       "      <td>41</td>\n",
       "      <td>Int 0116-2022</td>\n",
       "      <td>Creating a one-stop shop small business portal.</td>\n",
       "      <td>9.76</td>\n",
       "    </tr>\n",
       "    <tr>\n",
       "      <th>519</th>\n",
       "      <td>marjorie velázquez</td>\n",
       "      <td>40</td>\n",
       "      <td>Int 0559-2022</td>\n",
       "      <td>Restricting the provision of eating utensils, condiment packets, napkins and extra eating containers, and clarifying the definition of third-party courier service.</td>\n",
       "      <td>20.00</td>\n",
       "    </tr>\n",
       "    <tr>\n",
       "      <th>614</th>\n",
       "      <td>julie menin</td>\n",
       "      <td>40</td>\n",
       "      <td>Int 0485-2022</td>\n",
       "      <td>Electronic child care directory.</td>\n",
       "      <td>20.00</td>\n",
       "    </tr>\n",
       "    <tr>\n",
       "      <th>613</th>\n",
       "      <td>julie menin</td>\n",
       "      <td>39</td>\n",
       "      <td>Int 0487-2022</td>\n",
       "      <td>Establishing a child care subsidy information portal.</td>\n",
       "      <td>17.95</td>\n",
       "    </tr>\n",
       "    <tr>\n",
       "      <th>621</th>\n",
       "      <td>julie menin</td>\n",
       "      <td>38</td>\n",
       "      <td>Int 0486-2022</td>\n",
       "      <td>Establishing a child care advisory board.</td>\n",
       "      <td>15.79</td>\n",
       "    </tr>\n",
       "    <tr>\n",
       "      <th>17</th>\n",
       "      <td>julie menin</td>\n",
       "      <td>38</td>\n",
       "      <td>Int 0760-2022</td>\n",
       "      <td>Providing water safety instruction to New York city's public school children at no cost.</td>\n",
       "      <td>13.16</td>\n",
       "    </tr>\n",
       "    <tr>\n",
       "      <th>615</th>\n",
       "      <td>julie menin</td>\n",
       "      <td>37</td>\n",
       "      <td>Int 0488-2022</td>\n",
       "      <td>Establishing a child care grant pilot program.</td>\n",
       "      <td>18.92</td>\n",
       "    </tr>\n",
       "    <tr>\n",
       "      <th>52</th>\n",
       "      <td>diana i. ayala</td>\n",
       "      <td>36</td>\n",
       "      <td>Int 0004-2022</td>\n",
       "      <td>Prohibiting the sale of guinea pigs in pet shops.</td>\n",
       "      <td>19.44</td>\n",
       "    </tr>\n",
       "    <tr>\n",
       "      <th>966</th>\n",
       "      <td>diana i. ayala</td>\n",
       "      <td>36</td>\n",
       "      <td>Int 0878-2023</td>\n",
       "      <td>Prohibiting the department of social services from requiring an applicant for a rental assistance voucher to have resided or reside in a shelter of any type.</td>\n",
       "      <td>22.22</td>\n",
       "    </tr>\n",
       "    <tr>\n",
       "      <th>56</th>\n",
       "      <td>diana i. ayala</td>\n",
       "      <td>32</td>\n",
       "      <td>Int 0005-2022</td>\n",
       "      <td>Records of lead-based paint investigations.</td>\n",
       "      <td>25.00</td>\n",
       "    </tr>\n",
       "    <tr>\n",
       "      <th>736</th>\n",
       "      <td>eric dinowitz</td>\n",
       "      <td>31</td>\n",
       "      <td>Int 0660-2022</td>\n",
       "      <td>Establishing a program to provide transition services for students with disabilities entering higher education.</td>\n",
       "      <td>9.68</td>\n",
       "    </tr>\n",
       "    <tr>\n",
       "      <th>1050</th>\n",
       "      <td>lynn c. schulman</td>\n",
       "      <td>30</td>\n",
       "      <td>Int 1001-2023</td>\n",
       "      <td>Prohibiting owners of commercial premises from knowingly leasing a commercial premises to, or otherwise allowing the use of such premises by, unlicensed sellers of cigarettes, electronic cigarettes, tobacco products, or illicit cannabis.</td>\n",
       "      <td>10.00</td>\n",
       "    </tr>\n",
       "    <tr>\n",
       "      <th>739</th>\n",
       "      <td>nantasha m. williams</td>\n",
       "      <td>29</td>\n",
       "      <td>Int 0644-2022</td>\n",
       "      <td>Requiring the department of education to provide information on establishing afterschool programs.</td>\n",
       "      <td>20.69</td>\n",
       "    </tr>\n",
       "    <tr>\n",
       "      <th>772</th>\n",
       "      <td>sandra ung</td>\n",
       "      <td>29</td>\n",
       "      <td>Int 0696-2022</td>\n",
       "      <td>Design of the ballot and content of ballot instructions for ranked choice elections.</td>\n",
       "      <td>24.14</td>\n",
       "    </tr>\n",
       "    <tr>\n",
       "      <th>849</th>\n",
       "      <td>diana i. ayala</td>\n",
       "      <td>28</td>\n",
       "      <td>Int 0750-2022</td>\n",
       "      <td>Proactive identification and inspection of multiple dwellings where children are at risk of lead poisoning.</td>\n",
       "      <td>25.00</td>\n",
       "    </tr>\n",
       "    <tr>\n",
       "      <th>1016</th>\n",
       "      <td>mercedes narcisse</td>\n",
       "      <td>28</td>\n",
       "      <td>Int 0968-2023</td>\n",
       "      <td>Establishing guidance to improve health outcomes for individuals affected by sickle cell disease.</td>\n",
       "      <td>21.43</td>\n",
       "    </tr>\n",
       "    <tr>\n",
       "      <th>618</th>\n",
       "      <td>julie menin</td>\n",
       "      <td>27</td>\n",
       "      <td>Int 0489-2022</td>\n",
       "      <td>Guidance to an owner of real property regarding facility requirements for a child care program.</td>\n",
       "      <td>18.52</td>\n",
       "    </tr>\n",
       "    <tr>\n",
       "      <th>381</th>\n",
       "      <td>james f. gennaro</td>\n",
       "      <td>27</td>\n",
       "      <td>Int 0239-2022</td>\n",
       "      <td>Education and outreach regarding solar and green roof systems.</td>\n",
       "      <td>29.63</td>\n",
       "    </tr>\n",
       "    <tr>\n",
       "      <th>234</th>\n",
       "      <td>nantasha m. williams</td>\n",
       "      <td>27</td>\n",
       "      <td>Int 0208-2022</td>\n",
       "      <td>Inspections of self-closing doors and fire safety notices in residential buildings.</td>\n",
       "      <td>22.22</td>\n",
       "    </tr>\n",
       "    <tr>\n",
       "      <th>293</th>\n",
       "      <td>mercedes narcisse</td>\n",
       "      <td>26</td>\n",
       "      <td>Int 0273-2022</td>\n",
       "      <td>Requiring police officers to receive training related to recognizing and interacting with individuals with autism spectrum disorder.</td>\n",
       "      <td>3.85</td>\n",
       "    </tr>\n",
       "  </tbody>\n",
       "</table>\n",
       "</div>"
      ],
      "text/plain": [
       "           primary_sponsor  total_sponsors EventItemMatterFile  \\\n",
       "981       lynn c. schulman              43       Int 0918-2023   \n",
       "144      justin l. brannan              43       Int 0102-2022   \n",
       "916            julie menin              41       Int 0844-2022   \n",
       "371       james f. gennaro              41       Int 0470-2022   \n",
       "64          diana i. ayala              41       Int 0006-2022   \n",
       "174            julie menin              41       Int 0116-2022   \n",
       "519     marjorie velázquez              40       Int 0559-2022   \n",
       "614            julie menin              40       Int 0485-2022   \n",
       "613            julie menin              39       Int 0487-2022   \n",
       "621            julie menin              38       Int 0486-2022   \n",
       "17             julie menin              38       Int 0760-2022   \n",
       "615            julie menin              37       Int 0488-2022   \n",
       "52          diana i. ayala              36       Int 0004-2022   \n",
       "966         diana i. ayala              36       Int 0878-2023   \n",
       "56          diana i. ayala              32       Int 0005-2022   \n",
       "736          eric dinowitz              31       Int 0660-2022   \n",
       "1050      lynn c. schulman              30       Int 1001-2023   \n",
       "739   nantasha m. williams              29       Int 0644-2022   \n",
       "772             sandra ung              29       Int 0696-2022   \n",
       "849         diana i. ayala              28       Int 0750-2022   \n",
       "1016     mercedes narcisse              28       Int 0968-2023   \n",
       "618            julie menin              27       Int 0489-2022   \n",
       "381       james f. gennaro              27       Int 0239-2022   \n",
       "234   nantasha m. williams              27       Int 0208-2022   \n",
       "293      mercedes narcisse              26       Int 0273-2022   \n",
       "\n",
       "                                                                                                                                                                                                                                EventItemMatterName  \\\n",
       "981                                                                                                         Requiring the department of health and mental hygiene to develop and implement a citywide diabetes incidence and impact reduction plan.   \n",
       "144                                                                                    Requiring the department of environmental protection to include information about the location of green roofs in an online map published by such department.   \n",
       "916                                                                                                                                                                                            Establishing an office of healthcare accountability.   \n",
       "371                                                                                                                                                                                                    Phasing out the use of fuel oil grade no. 4.   \n",
       "64                                                                                                                                                                         Remediation of lead-based paint in dwelling units in multiple dwellings.   \n",
       "174                                                                                                                                                                                                 Creating a one-stop shop small business portal.   \n",
       "519                                                                             Restricting the provision of eating utensils, condiment packets, napkins and extra eating containers, and clarifying the definition of third-party courier service.   \n",
       "614                                                                                                                                                                                                                Electronic child care directory.   \n",
       "613                                                                                                                                                                                           Establishing a child care subsidy information portal.   \n",
       "621                                                                                                                                                                                                       Establishing a child care advisory board.   \n",
       "17                                                                                                                                                         Providing water safety instruction to New York city's public school children at no cost.   \n",
       "615                                                                                                                                                                                                  Establishing a child care grant pilot program.   \n",
       "52                                                                                                                                                                                                Prohibiting the sale of guinea pigs in pet shops.   \n",
       "966                                                                                   Prohibiting the department of social services from requiring an applicant for a rental assistance voucher to have resided or reside in a shelter of any type.   \n",
       "56                                                                                                                                                                                                      Records of lead-based paint investigations.   \n",
       "736                                                                                                                                 Establishing a program to provide transition services for students with disabilities entering higher education.   \n",
       "1050  Prohibiting owners of commercial premises from knowingly leasing a commercial premises to, or otherwise allowing the use of such premises by, unlicensed sellers of cigarettes, electronic cigarettes, tobacco products, or illicit cannabis.   \n",
       "739                                                                                                                                              Requiring the department of education to provide information on establishing afterschool programs.   \n",
       "772                                                                                                                                                            Design of the ballot and content of ballot instructions for ranked choice elections.   \n",
       "849                                                                                                                                     Proactive identification and inspection of multiple dwellings where children are at risk of lead poisoning.   \n",
       "1016                                                                                                                                              Establishing guidance to improve health outcomes for individuals affected by sickle cell disease.   \n",
       "618                                                                                                                                                 Guidance to an owner of real property regarding facility requirements for a child care program.   \n",
       "381                                                                                                                                                                                  Education and outreach regarding solar and green roof systems.   \n",
       "234                                                                                                                                                             Inspections of self-closing doors and fire safety notices in residential buildings.   \n",
       "293                                                                                                            Requiring police officers to receive training related to recognizing and interacting with individuals with autism spectrum disorder.   \n",
       "\n",
       "      percent_cluster_3  \n",
       "981               16.28  \n",
       "144               18.60  \n",
       "916               19.51  \n",
       "371               19.51  \n",
       "64                19.51  \n",
       "174                9.76  \n",
       "519               20.00  \n",
       "614               20.00  \n",
       "613               17.95  \n",
       "621               15.79  \n",
       "17                13.16  \n",
       "615               18.92  \n",
       "52                19.44  \n",
       "966               22.22  \n",
       "56                25.00  \n",
       "736                9.68  \n",
       "1050              10.00  \n",
       "739               20.69  \n",
       "772               24.14  \n",
       "849               25.00  \n",
       "1016              21.43  \n",
       "618               18.52  \n",
       "381               29.63  \n",
       "234               22.22  \n",
       "293                3.85  "
      ]
     },
     "execution_count": 122,
     "metadata": {},
     "output_type": "execute_result"
    }
   ],
   "source": [
    "two[two['EventItemMatterStatus'] == 'Enacted'][['primary_sponsor','total_sponsors','EventItemMatterFile','EventItemMatterName','percent_cluster_3']].sort_values('total_sponsors',ascending=False).head(25)"
   ]
  },
  {
   "cell_type": "markdown",
   "metadata": {},
   "source": [
    "tf_idf "
   ]
  },
  {
   "cell_type": "code",
   "execution_count": 18,
   "metadata": {},
   "outputs": [],
   "source": [
    "add_stop = ['department','requiring','establishing','city', 'report','program', 'information','office','develop','new',\n",
    "            'citywide', 'related', 'certain','regarding','use','dept','new','york','services', 'reporting','public',\n",
    "            'plan','study','board','prohibiting']"
   ]
  },
  {
   "cell_type": "code",
   "execution_count": 19,
   "metadata": {},
   "outputs": [],
   "source": [
    "def preprocess_data(documents):\n",
    "    stop_words = set(stopwords.words('english'))\n",
    "    stop_words.update(add_stop)\n",
    "\n",
    "    tokenized_docs = [word_tokenize(doc.lower()) for doc in documents]\n",
    "    processed_docs = [[word for word in doc if word not in stop_words and word.isalpha()] for doc in tokenized_docs]\n",
    "    return processed_docs"
   ]
  },
  {
   "cell_type": "code",
   "execution_count": 20,
   "metadata": {},
   "outputs": [],
   "source": [
    "def join_tokens(token_list):\n",
    "    return ' '.join(token_list)"
   ]
  },
  {
   "cell_type": "code",
   "execution_count": 21,
   "metadata": {},
   "outputs": [
    {
     "name": "stderr",
     "output_type": "stream",
     "text": [
      "C:\\Users\\samtg\\AppData\\Local\\Temp\\ipykernel_3980\\1498695498.py:1: SettingWithCopyWarning: \n",
      "A value is trying to be set on a copy of a slice from a DataFrame.\n",
      "Try using .loc[row_indexer,col_indexer] = value instead\n",
      "\n",
      "See the caveats in the documentation: https://pandas.pydata.org/pandas-docs/stable/user_guide/indexing.html#returning-a-view-versus-a-copy\n",
      "  three['prepared_text'] = three['EventItemMatterName'].apply(lambda x: preprocess_data([x])[0])\n"
     ]
    }
   ],
   "source": [
    "three['prepared_text'] = three['EventItemMatterName'].apply(lambda x: preprocess_data([x])[0])"
   ]
  },
  {
   "cell_type": "code",
   "execution_count": 22,
   "metadata": {},
   "outputs": [
    {
     "name": "stdout",
     "output_type": "stream",
     "text": [
      "'housing', 'waste', 'outreach', 'emergency', 'residential', 'health', 'parking', 'rental', 'assistance', 'provide', 'individuals', 'care', 'vehicles', 'social', 'parks', 'sanitation', 'penalties', 'workers', 'food', 'powered', 'mobility', 'air', 'electric', 'violence', 'police', 'providing', 'devices', 'education', 'commercial', 'designated', 'languages', 'reports', 'complaints', 'library', 'commissioner', 'community', 'within', 'mental', 'hygiene', 'service', 'building', 'adults', 'administrative', 'quality', 'used', 'unlawful', 'tax', 'opioid', 'domestic', 'create', 'response', 'right', 'establishment', 'expiration', 'repeal', 'permits', 'civil', 'immigration', 'homeless', 'requirements', 'transportation', 'task', 'force', 'free', 'truck', 'units', 'solar', 'power', 'systems', 'safety', 'resources', 'administration', 'data', 'residents', 'property', 'recreation', 'agriculture', 'mitigation', 'zones', 'stations'\n"
     ]
    }
   ],
   "source": [
    "all_tokens = [token for sublist in three['prepared_text'] for token in sublist]\n",
    "word_freq = Counter(all_tokens)\n",
    "\n",
    "most_common_words = word_freq.most_common(80)  \n",
    "common_words_list = [word for word, freq in most_common_words]\n",
    "common_words_string = ', '.join(f\"'{word}'\" for word in common_words_list)\n",
    "print(common_words_string)"
   ]
  },
  {
   "cell_type": "code",
   "execution_count": 23,
   "metadata": {},
   "outputs": [],
   "source": [
    "bills_uncat['prepared_text'] = bills_uncat['EventItemMatterName'].apply(lambda x: preprocess_data([x])[0])"
   ]
  },
  {
   "cell_type": "code",
   "execution_count": 24,
   "metadata": {},
   "outputs": [],
   "source": [
    "bills_uncat['joined_text'] = bills_uncat['prepared_text'].apply(join_tokens)"
   ]
  },
  {
   "cell_type": "code",
   "execution_count": 25,
   "metadata": {},
   "outputs": [
    {
     "name": "stdout",
     "output_type": "stream",
     "text": [
      "landlords test apartment air quality offering lease signature\n",
      "<class 'str'>\n"
     ]
    }
   ],
   "source": [
    "print(bills_uncat['joined_text'].iloc[0])  # Check the first element\n",
    "print(type(bills_uncat['joined_text'].iloc[0]))  # Check the type\n"
   ]
  },
  {
   "cell_type": "code",
   "execution_count": 26,
   "metadata": {},
   "outputs": [],
   "source": [
    "bills_uncat['joined_text'] = bills_uncat['joined_text'].apply(lambda x: x.split())"
   ]
  },
  {
   "cell_type": "code",
   "execution_count": 27,
   "metadata": {},
   "outputs": [],
   "source": [
    "bill_primarysp_grouped = bills_uncat.groupby('primary_sponsor_cluster')['joined_text'].apply(lambda x: ' '.join([' '.join(sublist) for sublist in x])).reset_index()"
   ]
  },
  {
   "cell_type": "code",
   "execution_count": 28,
   "metadata": {},
   "outputs": [
    {
     "name": "stdout",
     "output_type": "stream",
     "text": [
      "'health', 'housing', 'mental', 'service', 'provide', 'education', 'emergency', 'parking', 'police', 'creation', 'food', 'force', 'creating', 'task', 'schools', 'vehicles', 'school', 'community', 'providing', 'penalties', 'requirements', 'buildings', 'business', 'care', 'establishment', 'hygiene', 'facilities', 'commercial', 'property', 'individuals', 'repeal', 'violations', 'assistance', 'parks', 'correction', 'employees', 'access', 'development', 'outreach', 'reports', 'fire', 'increasing', 'safety', 'residential', 'code', 'programs', 'homeless', 'within', 'complaints', 'children', 'persons', 'training', 'street', 'vehicle', 'small', 'provision', 'workers', 'electric', 'tax', 'data', 'civil', 'building', 'upon', 'shelter', 'pilot', 'devices', 'system', 'transportation', 'construction', 'rental', 'powered', 'water', 'online', 'conduct', 'waste', 'centers', 'delivery', 'child', 'section', 'expiration'\n"
     ]
    }
   ],
   "source": [
    "all_tokens = [token for sublist in bills_uncat['joined_text'] for token in sublist]\n",
    "word_freq = Counter(all_tokens)\n",
    "\n",
    "most_common_words = word_freq.most_common(80)  \n",
    "common_words_list = [word for word, freq in most_common_words]\n",
    "common_words_string = ', '.join(f\"'{word}'\" for word in common_words_list)\n",
    "print(common_words_string)"
   ]
  },
  {
   "cell_type": "code",
   "execution_count": 29,
   "metadata": {},
   "outputs": [],
   "source": [
    "tfidf = TfidfVectorizer()"
   ]
  },
  {
   "cell_type": "code",
   "execution_count": 30,
   "metadata": {},
   "outputs": [],
   "source": [
    "bill_matrix = tfidf.fit_transform(bill_primarysp_grouped['joined_text'])\n",
    "feature_names = tfidf.get_feature_names_out()\n",
    "bill_tfidf_df = pd.DataFrame(bill_matrix.toarray(), columns=feature_names, index=bill_primarysp_grouped['primary_sponsor_cluster'])"
   ]
  },
  {
   "cell_type": "code",
   "execution_count": 34,
   "metadata": {},
   "outputs": [
    {
     "name": "stdout",
     "output_type": "stream",
     "text": [
      "Cluster 0.0: housing, health, establishment, creating, education, provide, buildings, mental, campaign, correction, package\n",
      "Cluster 1.0: parking, service, vehicles, street, veteran, notification, electric, fire, requests, force, violations\n",
      "Cluster 2.0: health, mental, food, business, education, hygiene, children, service, provide, housing, improvement\n",
      "Cluster 3.0: housing, outreach, library, emergency, waste, residential, health, biometric, assistance, rental, provide\n",
      "Cluster 4.0: education, police, schools, health, inspections, buildings, indoor, mental, vehicles, housing, powered\n"
     ]
    }
   ],
   "source": [
    "top_words_by_cluster = {}\n",
    "for cluster in bill_tfidf_df.index:\n",
    "    # Sort the TF-IDF scores for the cluster in descending order\n",
    "    sorted_indices = bill_tfidf_df.loc[cluster].sort_values(ascending=False).head(11)\n",
    "    top_words_by_cluster[cluster] = sorted_indices.index.tolist()\n",
    "\n",
    "# Step 5: Display the top 10 words for each cluster\n",
    "for cluster, words in top_words_by_cluster.items():\n",
    "    print(f\"Cluster {cluster}: {', '.join(words)}\")"
   ]
  },
  {
   "cell_type": "code",
   "execution_count": 35,
   "metadata": {},
   "outputs": [
    {
     "data": {
      "text/plain": [
       "{0.0: ['housing',\n",
       "  'health',\n",
       "  'establishment',\n",
       "  'creating',\n",
       "  'education',\n",
       "  'provide',\n",
       "  'buildings',\n",
       "  'mental',\n",
       "  'campaign',\n",
       "  'correction',\n",
       "  'package'],\n",
       " 1.0: ['parking',\n",
       "  'service',\n",
       "  'vehicles',\n",
       "  'street',\n",
       "  'veteran',\n",
       "  'notification',\n",
       "  'electric',\n",
       "  'fire',\n",
       "  'requests',\n",
       "  'force',\n",
       "  'violations'],\n",
       " 2.0: ['health',\n",
       "  'mental',\n",
       "  'food',\n",
       "  'business',\n",
       "  'education',\n",
       "  'hygiene',\n",
       "  'children',\n",
       "  'service',\n",
       "  'provide',\n",
       "  'housing',\n",
       "  'improvement'],\n",
       " 3.0: ['housing',\n",
       "  'outreach',\n",
       "  'library',\n",
       "  'emergency',\n",
       "  'waste',\n",
       "  'residential',\n",
       "  'health',\n",
       "  'biometric',\n",
       "  'assistance',\n",
       "  'rental',\n",
       "  'provide'],\n",
       " 4.0: ['education',\n",
       "  'police',\n",
       "  'schools',\n",
       "  'health',\n",
       "  'inspections',\n",
       "  'buildings',\n",
       "  'indoor',\n",
       "  'mental',\n",
       "  'vehicles',\n",
       "  'housing',\n",
       "  'powered']}"
      ]
     },
     "execution_count": 35,
     "metadata": {},
     "output_type": "execute_result"
    }
   ],
   "source": [
    "top_words_by_cluster"
   ]
  },
  {
   "cell_type": "markdown",
   "metadata": {},
   "source": [
    "Attempt to export words"
   ]
  },
  {
   "cell_type": "code",
   "execution_count": null,
   "metadata": {},
   "outputs": [],
   "source": [
    "\n",
    "max_words = max(len(words) for words in top_words_by_cluster.values())  # Determine the max number of words in any cluster\n",
    "df = pd.DataFrame.from_dict(\n",
    "    {cluster: words + [None] * (max_words - len(words)) for cluster, words in top_words_by_cluster.items()},\n",
    "    orient='index'\n",
    ")\n",
    "\n",
    "# Rename columns to reflect word positions\n",
    "df.columns = [f'Word {i+1}' for i in range(max_words)]\n",
    "df.index.name = 'Cluster'\n"
   ]
  },
  {
   "cell_type": "code",
   "execution_count": 39,
   "metadata": {},
   "outputs": [],
   "source": [
    "df.reset_index().to_csv('../../chapter_two/data/top_words_by_cluster.csv', index=False)"
   ]
  }
 ],
 "metadata": {
  "kernelspec": {
   "display_name": "Python 3",
   "language": "python",
   "name": "python3"
  },
  "language_info": {
   "codemirror_mode": {
    "name": "ipython",
    "version": 3
   },
   "file_extension": ".py",
   "mimetype": "text/x-python",
   "name": "python",
   "nbconvert_exporter": "python",
   "pygments_lexer": "ipython3",
   "version": "3.11.4"
  }
 },
 "nbformat": 4,
 "nbformat_minor": 2
}
