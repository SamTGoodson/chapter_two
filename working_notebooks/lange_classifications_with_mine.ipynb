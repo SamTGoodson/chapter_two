{
 "cells": [
  {
   "cell_type": "code",
   "execution_count": 1,
   "metadata": {},
   "outputs": [],
   "source": [
    "import pandas as pd\n",
    "\n",
    "import numpy as np\n",
    "\n",
    "from sklearn.preprocessing import StandardScaler\n",
    "from sklearn.cluster import KMeans\n",
    "from sklearn.ensemble import RandomForestClassifier\n",
    "\n",
    "from fuzzywuzzy import process\n",
    "from fuzzywuzzy import fuzz"
   ]
  },
  {
   "cell_type": "code",
   "execution_count": 2,
   "metadata": {},
   "outputs": [],
   "source": [
    "from sklearn.naive_bayes import GaussianNB\n",
    "from sklearn.neighbors import KNeighborsClassifier\n",
    "from sklearn.preprocessing import LabelEncoder"
   ]
  },
  {
   "cell_type": "code",
   "execution_count": 3,
   "metadata": {},
   "outputs": [],
   "source": [
    "meta_clusters = pd.read_csv('../data/meta_clusters_with_formatted_name.csv')\n",
    "demo_clusters = pd.read_csv(\"../../cc_election_cleaning/district_level_demo_clusters.csv\")"
   ]
  },
  {
   "cell_type": "code",
   "execution_count": 4,
   "metadata": {},
   "outputs": [],
   "source": [
    "faction_compare = pd.read_csv('../../citycouncil_tweets/data/faction_compare.csv')"
   ]
  },
  {
   "cell_type": "code",
   "execution_count": 46,
   "metadata": {},
   "outputs": [],
   "source": [
    "dc = demo_clusters[['matched_name','demo_cluster','district']]"
   ]
  },
  {
   "cell_type": "code",
   "execution_count": 47,
   "metadata": {},
   "outputs": [],
   "source": [
    "dc.columns = ['demo_name','demo_cluster','district']"
   ]
  },
  {
   "cell_type": "code",
   "execution_count": 48,
   "metadata": {},
   "outputs": [],
   "source": [
    "fc = faction_compare[['VotePersonName', 'faction']]"
   ]
  },
  {
   "cell_type": "code",
   "execution_count": 49,
   "metadata": {},
   "outputs": [],
   "source": [
    "mc = meta_clusters[['proper_name', 'k_spon','louv','vote_cluster']]"
   ]
  },
  {
   "cell_type": "code",
   "execution_count": 50,
   "metadata": {},
   "outputs": [],
   "source": [
    "k_mode = meta_clusters[['proper_name', 'kmode_cluster']]"
   ]
  },
  {
   "cell_type": "code",
   "execution_count": 10,
   "metadata": {},
   "outputs": [],
   "source": [
    "def fuzzy_match_names(name, choices):\n",
    "    return process.extractOne(name, choices, scorer=fuzz.token_sort_ratio)"
   ]
  },
  {
   "cell_type": "code",
   "execution_count": 51,
   "metadata": {},
   "outputs": [
    {
     "name": "stderr",
     "output_type": "stream",
     "text": [
      "C:\\Users\\samtg\\AppData\\Local\\Temp\\ipykernel_17160\\1570030601.py:1: SettingWithCopyWarning: \n",
      "A value is trying to be set on a copy of a slice from a DataFrame.\n",
      "Try using .loc[row_indexer,col_indexer] = value instead\n",
      "\n",
      "See the caveats in the documentation: https://pandas.pydata.org/pandas-docs/stable/user_guide/indexing.html#returning-a-view-versus-a-copy\n",
      "  dc['demo_name'] = dc['demo_name'].astype(str)\n"
     ]
    }
   ],
   "source": [
    "dc['demo_name'] = dc['demo_name'].astype(str)"
   ]
  },
  {
   "cell_type": "code",
   "execution_count": 52,
   "metadata": {},
   "outputs": [
    {
     "name": "stderr",
     "output_type": "stream",
     "text": [
      "C:\\Users\\samtg\\AppData\\Local\\Temp\\ipykernel_17160\\4270438580.py:1: SettingWithCopyWarning: \n",
      "A value is trying to be set on a copy of a slice from a DataFrame.\n",
      "Try using .loc[row_indexer,col_indexer] = value instead\n",
      "\n",
      "See the caveats in the documentation: https://pandas.pydata.org/pandas-docs/stable/user_guide/indexing.html#returning-a-view-versus-a-copy\n",
      "  mc['matched_name'] = mc['proper_name'].apply(lambda x: fuzzy_match_names(x, fc['VotePersonName'])[0])\n",
      "C:\\Users\\samtg\\AppData\\Local\\Temp\\ipykernel_17160\\4270438580.py:2: SettingWithCopyWarning: \n",
      "A value is trying to be set on a copy of a slice from a DataFrame.\n",
      "Try using .loc[row_indexer,col_indexer] = value instead\n",
      "\n",
      "See the caveats in the documentation: https://pandas.pydata.org/pandas-docs/stable/user_guide/indexing.html#returning-a-view-versus-a-copy\n",
      "  dc['matched_name'] = dc['demo_name'].apply(lambda x: fuzzy_match_names(x, fc['VotePersonName'])[0])\n"
     ]
    }
   ],
   "source": [
    "mc['matched_name'] = mc['proper_name'].apply(lambda x: fuzzy_match_names(x, fc['VotePersonName'])[0])\n",
    "dc['matched_name'] = dc['demo_name'].apply(lambda x: fuzzy_match_names(x, fc['VotePersonName'])[0])"
   ]
  },
  {
   "cell_type": "code",
   "execution_count": 53,
   "metadata": {},
   "outputs": [
    {
     "name": "stderr",
     "output_type": "stream",
     "text": [
      "C:\\Users\\samtg\\AppData\\Local\\Temp\\ipykernel_17160\\737343960.py:1: SettingWithCopyWarning: \n",
      "A value is trying to be set on a copy of a slice from a DataFrame.\n",
      "Try using .loc[row_indexer,col_indexer] = value instead\n",
      "\n",
      "See the caveats in the documentation: https://pandas.pydata.org/pandas-docs/stable/user_guide/indexing.html#returning-a-view-versus-a-copy\n",
      "  k_mode['matched_name'] = k_mode['proper_name'].apply(lambda x: fuzzy_match_names(x, fc['VotePersonName'])[0])\n"
     ]
    }
   ],
   "source": [
    "k_mode['matched_name'] = k_mode['proper_name'].apply(lambda x: fuzzy_match_names(x, fc['VotePersonName'])[0])"
   ]
  },
  {
   "cell_type": "code",
   "execution_count": 54,
   "metadata": {},
   "outputs": [],
   "source": [
    "joined = mc.merge(fc, left_on='matched_name', right_on='VotePersonName')\n",
    "joined = joined.merge(dc, on='matched_name')"
   ]
  },
  {
   "cell_type": "code",
   "execution_count": 55,
   "metadata": {},
   "outputs": [],
   "source": [
    "joined = joined.drop(columns=['proper_name', 'VotePersonName', 'demo_name'])"
   ]
  },
  {
   "cell_type": "code",
   "execution_count": 50,
   "metadata": {},
   "outputs": [
    {
     "data": {
      "text/plain": [
       "faction\n",
       "Affluent Liberals           4\n",
       "Hybrid Progressives         3\n",
       "DSA                         2\n",
       "Alphabet Left               2\n",
       "Old and New Republicans     2\n",
       "County Aligned Moderates    1\n",
       "Name: count, dtype: int64"
      ]
     },
     "execution_count": 50,
     "metadata": {},
     "output_type": "execute_result"
    }
   ],
   "source": [
    "joined['faction'].value_counts()"
   ]
  },
  {
   "cell_type": "code",
   "execution_count": 56,
   "metadata": {},
   "outputs": [],
   "source": [
    "df = joined.copy()"
   ]
  },
  {
   "cell_type": "code",
   "execution_count": 57,
   "metadata": {},
   "outputs": [],
   "source": [
    "features = ['k_spon', 'louv', 'vote_cluster', 'demo_cluster']\n",
    "df_train = df[df['faction'].notnull()].copy()\n",
    "df_test = df[df['faction'].isnull()].copy()"
   ]
  },
  {
   "cell_type": "code",
   "execution_count": 58,
   "metadata": {},
   "outputs": [],
   "source": [
    "le = LabelEncoder()\n",
    "df_train['faction_encoded'] = le.fit_transform(df_train['faction'])\n",
    "y_train = df_train['faction_encoded']\n",
    "X_train = df_train[features]\n",
    "X_test = df_test[features]"
   ]
  },
  {
   "cell_type": "code",
   "execution_count": 59,
   "metadata": {},
   "outputs": [],
   "source": [
    "model_nb = GaussianNB()\n",
    "model_nb.fit(X_train, y_train)\n",
    "pred_nb = model_nb.predict(X_test)\n",
    "# Convert numeric predictions back to original faction names\n",
    "pred_nb_labels = le.inverse_transform(pred_nb)\n",
    "# Add predictions to original DataFrame for rows with missing faction\n",
    "df.loc[df['faction'].isnull(), 'pred_nb'] = pred_nb_labels"
   ]
  },
  {
   "cell_type": "code",
   "execution_count": 60,
   "metadata": {},
   "outputs": [],
   "source": [
    "model_rf = RandomForestClassifier(random_state=42)\n",
    "model_rf.fit(X_train, y_train)\n",
    "pred_rf = model_rf.predict(X_test)\n",
    "pred_rf_labels = le.inverse_transform(pred_rf)\n",
    "df.loc[df['faction'].isnull(), 'pred_rf'] = pred_rf_labels"
   ]
  },
  {
   "cell_type": "code",
   "execution_count": 61,
   "metadata": {},
   "outputs": [],
   "source": [
    "model_knn = KNeighborsClassifier(n_neighbors=3)\n",
    "model_knn.fit(X_train, y_train)\n",
    "pred_knn = model_knn.predict(X_test)\n",
    "pred_knn_labels = le.inverse_transform(pred_knn)\n",
    "df.loc[df['faction'].isnull(), 'pred_knn'] = pred_knn_labels"
   ]
  },
  {
   "cell_type": "code",
   "execution_count": 62,
   "metadata": {},
   "outputs": [],
   "source": [
    "# if faction col is not null assign it to each prediction column\n",
    "df['pred_nb'] = df['pred_nb'].fillna(df['faction'])\n",
    "df['pred_rf'] = df['pred_rf'].fillna(df['faction'])\n",
    "df['pred_knn'] = df['pred_knn'].fillna(df['faction'])"
   ]
  },
  {
   "cell_type": "code",
   "execution_count": 63,
   "metadata": {},
   "outputs": [],
   "source": [
    "df = df.merge(k_mode, on='matched_name')"
   ]
  },
  {
   "cell_type": "code",
   "execution_count": 64,
   "metadata": {},
   "outputs": [
    {
     "data": {
      "text/html": [
       "<div>\n",
       "<style scoped>\n",
       "    .dataframe tbody tr th:only-of-type {\n",
       "        vertical-align: middle;\n",
       "    }\n",
       "\n",
       "    .dataframe tbody tr th {\n",
       "        vertical-align: top;\n",
       "    }\n",
       "\n",
       "    .dataframe thead th {\n",
       "        text-align: right;\n",
       "    }\n",
       "</style>\n",
       "<table border=\"1\" class=\"dataframe\">\n",
       "  <thead>\n",
       "    <tr style=\"text-align: right;\">\n",
       "      <th></th>\n",
       "      <th>k_spon</th>\n",
       "      <th>louv</th>\n",
       "      <th>vote_cluster</th>\n",
       "      <th>matched_name</th>\n",
       "      <th>faction</th>\n",
       "      <th>demo_cluster</th>\n",
       "      <th>district</th>\n",
       "      <th>pred_nb</th>\n",
       "      <th>pred_rf</th>\n",
       "      <th>pred_knn</th>\n",
       "      <th>proper_name</th>\n",
       "      <th>kmode_cluster</th>\n",
       "    </tr>\n",
       "  </thead>\n",
       "  <tbody>\n",
       "    <tr>\n",
       "      <th>0</th>\n",
       "      <td>0</td>\n",
       "      <td>0</td>\n",
       "      <td>0</td>\n",
       "      <td>Rita C. Joseph</td>\n",
       "      <td>NaN</td>\n",
       "      <td>3</td>\n",
       "      <td>40</td>\n",
       "      <td>Affluent Liberals</td>\n",
       "      <td>Hybrid Progressives</td>\n",
       "      <td>Affluent Liberals</td>\n",
       "      <td>Rita C. Joseph</td>\n",
       "      <td>0</td>\n",
       "    </tr>\n",
       "  </tbody>\n",
       "</table>\n",
       "</div>"
      ],
      "text/plain": [
       "   k_spon  louv  vote_cluster    matched_name faction  demo_cluster  district  \\\n",
       "0       0     0             0  Rita C. Joseph     NaN             3        40   \n",
       "\n",
       "             pred_nb              pred_rf           pred_knn     proper_name  \\\n",
       "0  Affluent Liberals  Hybrid Progressives  Affluent Liberals  Rita C. Joseph   \n",
       "\n",
       "   kmode_cluster  \n",
       "0              0  "
      ]
     },
     "execution_count": 64,
     "metadata": {},
     "output_type": "execute_result"
    }
   ],
   "source": [
    "df.head(1)"
   ]
  },
  {
   "cell_type": "code",
   "execution_count": 65,
   "metadata": {},
   "outputs": [],
   "source": [
    "df.drop(columns=['proper_name'], inplace=True)"
   ]
  },
  {
   "cell_type": "code",
   "execution_count": 79,
   "metadata": {},
   "outputs": [
    {
     "data": {
      "text/plain": [
       "pred_knn\n",
       "Affluent Liberals           30\n",
       "Hybrid Progressives          4\n",
       "DSA                          4\n",
       "Old and New Republicans      4\n",
       "County Aligned Moderates     2\n",
       "Alphabet Left                2\n",
       "Name: count, dtype: int64"
      ]
     },
     "execution_count": 79,
     "metadata": {},
     "output_type": "execute_result"
    }
   ],
   "source": [
    "df['pred_knn'].value_counts()"
   ]
  },
  {
   "cell_type": "code",
   "execution_count": 66,
   "metadata": {},
   "outputs": [
    {
     "data": {
      "text/html": [
       "<div>\n",
       "<style scoped>\n",
       "    .dataframe tbody tr th:only-of-type {\n",
       "        vertical-align: middle;\n",
       "    }\n",
       "\n",
       "    .dataframe tbody tr th {\n",
       "        vertical-align: top;\n",
       "    }\n",
       "\n",
       "    .dataframe thead th {\n",
       "        text-align: right;\n",
       "    }\n",
       "</style>\n",
       "<table border=\"1\" class=\"dataframe\">\n",
       "  <thead>\n",
       "    <tr style=\"text-align: right;\">\n",
       "      <th></th>\n",
       "      <th>k_spon</th>\n",
       "      <th>louv</th>\n",
       "      <th>vote_cluster</th>\n",
       "      <th>matched_name</th>\n",
       "      <th>faction</th>\n",
       "      <th>demo_cluster</th>\n",
       "      <th>district</th>\n",
       "      <th>pred_nb</th>\n",
       "      <th>pred_rf</th>\n",
       "      <th>pred_knn</th>\n",
       "      <th>kmode_cluster</th>\n",
       "    </tr>\n",
       "  </thead>\n",
       "  <tbody>\n",
       "    <tr>\n",
       "      <th>2</th>\n",
       "      <td>0</td>\n",
       "      <td>0</td>\n",
       "      <td>2</td>\n",
       "      <td>Kristin Richardson Jordan</td>\n",
       "      <td>NaN</td>\n",
       "      <td>2</td>\n",
       "      <td>9</td>\n",
       "      <td>Alphabet Left</td>\n",
       "      <td>Hybrid Progressives</td>\n",
       "      <td>Hybrid Progressives</td>\n",
       "      <td>3</td>\n",
       "    </tr>\n",
       "    <tr>\n",
       "      <th>19</th>\n",
       "      <td>0</td>\n",
       "      <td>0</td>\n",
       "      <td>2</td>\n",
       "      <td>Chi A. Ossé</td>\n",
       "      <td>NaN</td>\n",
       "      <td>3</td>\n",
       "      <td>36</td>\n",
       "      <td>Alphabet Left</td>\n",
       "      <td>Hybrid Progressives</td>\n",
       "      <td>DSA</td>\n",
       "      <td>3</td>\n",
       "    </tr>\n",
       "    <tr>\n",
       "      <th>22</th>\n",
       "      <td>1</td>\n",
       "      <td>0</td>\n",
       "      <td>2</td>\n",
       "      <td>Tiffany Cabán</td>\n",
       "      <td>DSA</td>\n",
       "      <td>4</td>\n",
       "      <td>22</td>\n",
       "      <td>DSA</td>\n",
       "      <td>DSA</td>\n",
       "      <td>DSA</td>\n",
       "      <td>3</td>\n",
       "    </tr>\n",
       "    <tr>\n",
       "      <th>25</th>\n",
       "      <td>1</td>\n",
       "      <td>0</td>\n",
       "      <td>2</td>\n",
       "      <td>Sandy Nurse</td>\n",
       "      <td>Hybrid Progressives</td>\n",
       "      <td>2</td>\n",
       "      <td>37</td>\n",
       "      <td>Hybrid Progressives</td>\n",
       "      <td>Hybrid Progressives</td>\n",
       "      <td>Hybrid Progressives</td>\n",
       "      <td>3</td>\n",
       "    </tr>\n",
       "    <tr>\n",
       "      <th>29</th>\n",
       "      <td>1</td>\n",
       "      <td>0</td>\n",
       "      <td>2</td>\n",
       "      <td>Alexa Avilés</td>\n",
       "      <td>DSA</td>\n",
       "      <td>4</td>\n",
       "      <td>38</td>\n",
       "      <td>DSA</td>\n",
       "      <td>DSA</td>\n",
       "      <td>DSA</td>\n",
       "      <td>3</td>\n",
       "    </tr>\n",
       "    <tr>\n",
       "      <th>30</th>\n",
       "      <td>1</td>\n",
       "      <td>0</td>\n",
       "      <td>2</td>\n",
       "      <td>Jennifer Gutiérrez</td>\n",
       "      <td>Alphabet Left</td>\n",
       "      <td>4</td>\n",
       "      <td>34</td>\n",
       "      <td>Alphabet Left</td>\n",
       "      <td>Alphabet Left</td>\n",
       "      <td>Alphabet Left</td>\n",
       "      <td>3</td>\n",
       "    </tr>\n",
       "    <tr>\n",
       "      <th>42</th>\n",
       "      <td>3</td>\n",
       "      <td>0</td>\n",
       "      <td>2</td>\n",
       "      <td>Shahana K. Hanif</td>\n",
       "      <td>Alphabet Left</td>\n",
       "      <td>1</td>\n",
       "      <td>39</td>\n",
       "      <td>Alphabet Left</td>\n",
       "      <td>Alphabet Left</td>\n",
       "      <td>Alphabet Left</td>\n",
       "      <td>3</td>\n",
       "    </tr>\n",
       "    <tr>\n",
       "      <th>44</th>\n",
       "      <td>3</td>\n",
       "      <td>0</td>\n",
       "      <td>2</td>\n",
       "      <td>Lincoln Restler</td>\n",
       "      <td>NaN</td>\n",
       "      <td>1</td>\n",
       "      <td>33</td>\n",
       "      <td>Alphabet Left</td>\n",
       "      <td>Alphabet Left</td>\n",
       "      <td>Affluent Liberals</td>\n",
       "      <td>3</td>\n",
       "    </tr>\n",
       "  </tbody>\n",
       "</table>\n",
       "</div>"
      ],
      "text/plain": [
       "    k_spon  louv  vote_cluster               matched_name  \\\n",
       "2        0     0             2  Kristin Richardson Jordan   \n",
       "19       0     0             2                Chi A. Ossé   \n",
       "22       1     0             2              Tiffany Cabán   \n",
       "25       1     0             2                Sandy Nurse   \n",
       "29       1     0             2               Alexa Avilés   \n",
       "30       1     0             2         Jennifer Gutiérrez   \n",
       "42       3     0             2           Shahana K. Hanif   \n",
       "44       3     0             2            Lincoln Restler   \n",
       "\n",
       "                faction  demo_cluster  district              pred_nb  \\\n",
       "2                   NaN             2         9        Alphabet Left   \n",
       "19                  NaN             3        36        Alphabet Left   \n",
       "22                  DSA             4        22                  DSA   \n",
       "25  Hybrid Progressives             2        37  Hybrid Progressives   \n",
       "29                  DSA             4        38                  DSA   \n",
       "30        Alphabet Left             4        34        Alphabet Left   \n",
       "42        Alphabet Left             1        39        Alphabet Left   \n",
       "44                  NaN             1        33        Alphabet Left   \n",
       "\n",
       "                pred_rf             pred_knn  kmode_cluster  \n",
       "2   Hybrid Progressives  Hybrid Progressives              3  \n",
       "19  Hybrid Progressives                  DSA              3  \n",
       "22                  DSA                  DSA              3  \n",
       "25  Hybrid Progressives  Hybrid Progressives              3  \n",
       "29                  DSA                  DSA              3  \n",
       "30        Alphabet Left        Alphabet Left              3  \n",
       "42        Alphabet Left        Alphabet Left              3  \n",
       "44        Alphabet Left    Affluent Liberals              3  "
      ]
     },
     "execution_count": 66,
     "metadata": {},
     "output_type": "execute_result"
    }
   ],
   "source": [
    "df[df['kmode_cluster'] == 3]"
   ]
  },
  {
   "cell_type": "code",
   "execution_count": 67,
   "metadata": {},
   "outputs": [],
   "source": [
    "df.to_csv('../../shiny_meta_council_clustering/faction_predictions.csv', index=False)"
   ]
  }
 ],
 "metadata": {
  "kernelspec": {
   "display_name": "Python 3",
   "language": "python",
   "name": "python3"
  },
  "language_info": {
   "codemirror_mode": {
    "name": "ipython",
    "version": 3
   },
   "file_extension": ".py",
   "mimetype": "text/x-python",
   "name": "python",
   "nbconvert_exporter": "python",
   "pygments_lexer": "ipython3",
   "version": "3.11.4"
  }
 },
 "nbformat": 4,
 "nbformat_minor": 2
}
